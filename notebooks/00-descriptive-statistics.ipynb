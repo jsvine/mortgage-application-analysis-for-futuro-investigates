{
 "cells": [
  {
   "cell_type": "markdown",
   "id": "0da68ade-7862-4dc5-ab37-11487e13f715",
   "metadata": {},
   "source": [
    "# Descriptive Statistics\n",
    "\n",
    "This notebook generates descriptive statistics based on the filtered HMDA records in `data/processed/mortgage-records/filtered`. The key findings are logged in `output/logs/descriptive.txt`. Please see the methodology document for additional context regarding these calculations."
   ]
  },
  {
   "cell_type": "markdown",
   "id": "7f0fb09d-3e16-4948-bd6a-0609c7499635",
   "metadata": {},
   "source": [
    "## Setup"
   ]
  },
  {
   "cell_type": "code",
   "execution_count": 1,
   "id": "38ac5ed7-e61e-4588-9e63-4388445af887",
   "metadata": {},
   "outputs": [],
   "source": [
    "import polars as pl\n",
    "import seaborn as sns\n",
    "from utils.expressions import (\n",
    "    EXPR_ETHN_SIMPLE,\n",
    "    EXPR_IS_CREDIT_DENIAL,\n",
    "    EXPR_RACE_ETHN,\n",
    "    EXPR_RACE_SIMPLE,\n",
    ")\n",
    "from utils.helpers import count_with_pct, make_logger, shift_columns_left\n",
    "from utils.loaders import load_county_meta, load_hmda, load_lenders"
   ]
  },
  {
   "cell_type": "code",
   "execution_count": 2,
   "id": "9a419606-712f-4428-ba3e-5bee74b509cb",
   "metadata": {},
   "outputs": [],
   "source": [
    "log = make_logger(\"../output/logs/descriptive.txt\")"
   ]
  },
  {
   "cell_type": "markdown",
   "id": "536f6228-91ae-477a-b6b3-d356e16fb4a4",
   "metadata": {},
   "source": [
    "## Load auxiliary datasets"
   ]
  },
  {
   "cell_type": "code",
   "execution_count": 3,
   "id": "89161a4b-ae18-4d7f-b068-04f67c15e64c",
   "metadata": {},
   "outputs": [
    {
     "data": {
      "text/html": [
       "<div><style>\n",
       ".dataframe > thead > tr,\n",
       ".dataframe > tbody > tr {\n",
       "  text-align: right;\n",
       "  white-space: pre-wrap;\n",
       "}\n",
       "</style>\n",
       "<small>shape: (5, 10)</small><table border=\"1\" class=\"dataframe\"><thead><tr><th>lei</th><th>lender_name</th><th>lender_parent</th><th>lender_topholder</th><th>lender_agency</th><th>other_lender_code</th><th>lender_state</th><th>lender_assets</th><th>lender_year_max</th><th>lender_type</th></tr><tr><td>str</td><td>str</td><td>str</td><td>str</td><td>i64</td><td>i64</td><td>str</td><td>i64</td><td>i64</td><td>str</td></tr></thead><tbody><tr><td>&quot;549300DKYWYDD1…</td><td>&quot;SI Mortgage Co…</td><td>null</td><td>null</td><td>7</td><td>-1</td><td>null</td><td>-1</td><td>2018</td><td>&quot;bank_or_other&quot;</td></tr><tr><td>&quot;549300QZ613DTY…</td><td>&quot;Ned Stevens In…</td><td>null</td><td>null</td><td>7</td><td>3</td><td>&quot;RI&quot;</td><td>-1</td><td>2018</td><td>&quot;ind&quot;</td></tr><tr><td>&quot;549300983ZYTJM…</td><td>&quot;Coastal Herita…</td><td>&quot;SOUTH SHORE MU…</td><td>&quot;SOUTH SHORE MU…</td><td>3</td><td>0</td><td>&quot;MA&quot;</td><td>511852</td><td>2018</td><td>&quot;bank_or_other&quot;</td></tr><tr><td>&quot;984500DLB3V4F0…</td><td>&quot;REDIGER INVEST…</td><td>null</td><td>null</td><td>9</td><td>5</td><td>&quot;CA&quot;</td><td>-1</td><td>2018</td><td>&quot;bank_or_other&quot;</td></tr><tr><td>&quot;5493004XDYR0YX…</td><td>&quot;Guaranty Bank …</td><td>&quot;GUARANTY BANCO…</td><td>&quot;GUARANTY BANCO…</td><td>2</td><td>0</td><td>&quot;CO&quot;</td><td>3697445</td><td>2018</td><td>&quot;bank_or_other&quot;</td></tr></tbody></table></div>"
      ],
      "text/plain": [
       "shape: (5, 10)\n",
       "┌───────────┬───────────┬───────────┬───────────┬───┬───────────┬───────────┬───────────┬──────────┐\n",
       "│ lei       ┆ lender_na ┆ lender_pa ┆ lender_to ┆ … ┆ lender_st ┆ lender_as ┆ lender_ye ┆ lender_t │\n",
       "│ ---       ┆ me        ┆ rent      ┆ pholder   ┆   ┆ ate       ┆ sets      ┆ ar_max    ┆ ype      │\n",
       "│ str       ┆ ---       ┆ ---       ┆ ---       ┆   ┆ ---       ┆ ---       ┆ ---       ┆ ---      │\n",
       "│           ┆ str       ┆ str       ┆ str       ┆   ┆ str       ┆ i64       ┆ i64       ┆ str      │\n",
       "╞═══════════╪═══════════╪═══════════╪═══════════╪═══╪═══════════╪═══════════╪═══════════╪══════════╡\n",
       "│ 549300DKY ┆ SI        ┆ null      ┆ null      ┆ … ┆ null      ┆ -1        ┆ 2018      ┆ bank_or_ │\n",
       "│ WYDD1KM25 ┆ Mortgage  ┆           ┆           ┆   ┆           ┆           ┆           ┆ other    │\n",
       "│ 15        ┆ Company   ┆           ┆           ┆   ┆           ┆           ┆           ┆          │\n",
       "│ 549300QZ6 ┆ Ned       ┆ null      ┆ null      ┆ … ┆ RI        ┆ -1        ┆ 2018      ┆ ind      │\n",
       "│ 13DTY0X8B ┆ Stevens   ┆           ┆           ┆   ┆           ┆           ┆           ┆          │\n",
       "│ 37        ┆ Inc.      ┆           ┆           ┆   ┆           ┆           ┆           ┆          │\n",
       "│ 549300983 ┆ Coastal   ┆ SOUTH     ┆ SOUTH     ┆ … ┆ MA        ┆ 511852    ┆ 2018      ┆ bank_or_ │\n",
       "│ ZYTJMCZTA ┆ Heritage  ┆ SHORE     ┆ SHORE     ┆   ┆           ┆           ┆           ┆ other    │\n",
       "│ 21        ┆ Bank      ┆ MUTUAL    ┆ MUTUAL    ┆   ┆           ┆           ┆           ┆          │\n",
       "│           ┆           ┆ HOLDING   ┆ HOLDING   ┆   ┆           ┆           ┆           ┆          │\n",
       "│           ┆           ┆ COMPA…    ┆ COMPA…    ┆   ┆           ┆           ┆           ┆          │\n",
       "│ 984500DLB ┆ REDIGER   ┆ null      ┆ null      ┆ … ┆ CA        ┆ -1        ┆ 2018      ┆ bank_or_ │\n",
       "│ 3V4F0D7FB ┆ INVESTMEN ┆           ┆           ┆   ┆           ┆           ┆           ┆ other    │\n",
       "│ 12        ┆ T CORPORA ┆           ┆           ┆   ┆           ┆           ┆           ┆          │\n",
       "│           ┆ TION      ┆           ┆           ┆   ┆           ┆           ┆           ┆          │\n",
       "│ 5493004XD ┆ Guaranty  ┆ GUARANTY  ┆ GUARANTY  ┆ … ┆ CO        ┆ 3697445   ┆ 2018      ┆ bank_or_ │\n",
       "│ YR0YX20D9 ┆ Bank and  ┆ BANCORP   ┆ BANCORP   ┆   ┆           ┆           ┆           ┆ other    │\n",
       "│ 07        ┆ Trust     ┆           ┆           ┆   ┆           ┆           ┆           ┆          │\n",
       "│           ┆ Company   ┆           ┆           ┆   ┆           ┆           ┆           ┆          │\n",
       "└───────────┴───────────┴───────────┴───────────┴───┴───────────┴───────────┴───────────┴──────────┘"
      ]
     },
     "execution_count": 3,
     "metadata": {},
     "output_type": "execute_result"
    }
   ],
   "source": [
    "lenders = load_lenders()\n",
    "lenders.head()"
   ]
  },
  {
   "cell_type": "code",
   "execution_count": 4,
   "id": "8214deab-246b-4e0d-b759-80475a048b1d",
   "metadata": {},
   "outputs": [
    {
     "data": {
      "text/html": [
       "<div><style>\n",
       ".dataframe > thead > tr,\n",
       ".dataframe > tbody > tr {\n",
       "  text-align: right;\n",
       "  white-space: pre-wrap;\n",
       "}\n",
       "</style>\n",
       "<small>shape: (5, 2)</small><table border=\"1\" class=\"dataframe\"><thead><tr><th>county_code</th><th>county_name</th></tr><tr><td>str</td><td>str</td></tr></thead><tbody><tr><td>&quot;34001&quot;</td><td>&quot;Atlantic Count…</td></tr><tr><td>&quot;34003&quot;</td><td>&quot;Bergen County&quot;</td></tr><tr><td>&quot;34005&quot;</td><td>&quot;Burlington Cou…</td></tr><tr><td>&quot;34007&quot;</td><td>&quot;Camden County&quot;</td></tr><tr><td>&quot;34009&quot;</td><td>&quot;Cape May Count…</td></tr></tbody></table></div>"
      ],
      "text/plain": [
       "shape: (5, 2)\n",
       "┌─────────────┬───────────────────┐\n",
       "│ county_code ┆ county_name       │\n",
       "│ ---         ┆ ---               │\n",
       "│ str         ┆ str               │\n",
       "╞═════════════╪═══════════════════╡\n",
       "│ 34001       ┆ Atlantic County   │\n",
       "│ 34003       ┆ Bergen County     │\n",
       "│ 34005       ┆ Burlington County │\n",
       "│ 34007       ┆ Camden County     │\n",
       "│ 34009       ┆ Cape May County   │\n",
       "└─────────────┴───────────────────┘"
      ]
     },
     "execution_count": 4,
     "metadata": {},
     "output_type": "execute_result"
    }
   ],
   "source": [
    "county_meta = load_county_meta()\n",
    "county_meta.head()"
   ]
  },
  {
   "cell_type": "markdown",
   "id": "c9669879-9ee5-490a-9691-555da3c82ab5",
   "metadata": {},
   "source": [
    "## Load HMDA data"
   ]
  },
  {
   "cell_type": "code",
   "execution_count": 5,
   "id": "d8bab21b-8877-41ce-b64d-019e4e682ecd",
   "metadata": {},
   "outputs": [
    {
     "name": "stdout",
     "output_type": "stream",
     "text": [
      "Total entries in filtered data:\n"
     ]
    },
    {
     "data": {
      "text/plain": [
       "519624"
      ]
     },
     "execution_count": 5,
     "metadata": {},
     "output_type": "execute_result"
    }
   ],
   "source": [
    "raw = load_hmda()\n",
    "log(len(raw), \"Total entries in filtered data\")"
   ]
  },
  {
   "cell_type": "code",
   "execution_count": 6,
   "id": "9ed03162-50f8-470a-a543-79cb0bd8d0ca",
   "metadata": {},
   "outputs": [
    {
     "name": "stdout",
     "output_type": "stream",
     "text": [
      "Applications by loan type:\n"
     ]
    },
    {
     "data": {
      "text/html": [
       "<div><style>\n",
       ".dataframe > thead > tr,\n",
       ".dataframe > tbody > tr {\n",
       "  text-align: right;\n",
       "  white-space: pre-wrap;\n",
       "}\n",
       "</style>\n",
       "<small>shape: (2, 2)</small><table border=\"1\" class=\"dataframe\"><thead><tr><th>loan_type</th><th>count</th></tr><tr><td>i64</td><td>u32</td></tr></thead><tbody><tr><td>1</td><td>396414</td></tr><tr><td>2</td><td>123210</td></tr></tbody></table></div>"
      ],
      "text/plain": [
       "shape: (2, 2)\n",
       "┌───────────┬────────┐\n",
       "│ loan_type ┆ count  │\n",
       "│ ---       ┆ ---    │\n",
       "│ i64       ┆ u32    │\n",
       "╞═══════════╪════════╡\n",
       "│ 1         ┆ 396414 │\n",
       "│ 2         ┆ 123210 │\n",
       "└───────────┴────────┘"
      ]
     },
     "execution_count": 6,
     "metadata": {},
     "output_type": "execute_result"
    }
   ],
   "source": [
    "(\n",
    "    raw.group_by(\"loan_type\")\n",
    "    .count()\n",
    "    .sort(\"loan_type\")\n",
    "    .pipe(log, \"Applications by loan type\")\n",
    ")"
   ]
  },
  {
   "cell_type": "code",
   "execution_count": 7,
   "id": "83172af3-9f30-4657-8235-e7933eacae9a",
   "metadata": {},
   "outputs": [
    {
     "name": "stdout",
     "output_type": "stream",
     "text": [
      "Applications by loan type and activity year:\n"
     ]
    },
    {
     "data": {
      "text/html": [
       "<div><style>\n",
       ".dataframe > thead > tr,\n",
       ".dataframe > tbody > tr {\n",
       "  text-align: right;\n",
       "  white-space: pre-wrap;\n",
       "}\n",
       "</style>\n",
       "<small>shape: (5, 3)</small><table border=\"1\" class=\"dataframe\"><thead><tr><th>activity_year</th><th>1</th><th>2</th></tr><tr><td>i64</td><td>u32</td><td>u32</td></tr></thead><tbody><tr><td>2018</td><td>70213</td><td>24714</td></tr><tr><td>2019</td><td>71309</td><td>25363</td></tr><tr><td>2020</td><td>84038</td><td>26982</td></tr><tr><td>2021</td><td>94742</td><td>26954</td></tr><tr><td>2022</td><td>76112</td><td>19197</td></tr></tbody></table></div>"
      ],
      "text/plain": [
       "shape: (5, 3)\n",
       "┌───────────────┬───────┬───────┐\n",
       "│ activity_year ┆ 1     ┆ 2     │\n",
       "│ ---           ┆ ---   ┆ ---   │\n",
       "│ i64           ┆ u32   ┆ u32   │\n",
       "╞═══════════════╪═══════╪═══════╡\n",
       "│ 2018          ┆ 70213 ┆ 24714 │\n",
       "│ 2019          ┆ 71309 ┆ 25363 │\n",
       "│ 2020          ┆ 84038 ┆ 26982 │\n",
       "│ 2021          ┆ 94742 ┆ 26954 │\n",
       "│ 2022          ┆ 76112 ┆ 19197 │\n",
       "└───────────────┴───────┴───────┘"
      ]
     },
     "execution_count": 7,
     "metadata": {},
     "output_type": "execute_result"
    }
   ],
   "source": [
    "(\n",
    "    raw.group_by(\"loan_type\", \"activity_year\")\n",
    "    .count()\n",
    "    .sort(\"loan_type\", \"activity_year\")\n",
    "    .pivot(\n",
    "        index=\"activity_year\",\n",
    "        columns=\"loan_type\",\n",
    "        values=\"count\",\n",
    "        aggregate_function=None,\n",
    "    )\n",
    "    .pipe(log, \"Applications by loan type and activity year\")\n",
    ")"
   ]
  },
  {
   "cell_type": "code",
   "execution_count": 8,
   "id": "3604ec15-4f50-4d07-ab7a-1367d2b1ed4d",
   "metadata": {},
   "outputs": [
    {
     "data": {
      "text/plain": [
       "396414"
      ]
     },
     "execution_count": 8,
     "metadata": {},
     "output_type": "execute_result"
    }
   ],
   "source": [
    "conventional = raw.filter(pl.col(\"loan_type\") == 1)\n",
    "len(conventional)"
   ]
  },
  {
   "cell_type": "code",
   "execution_count": 9,
   "id": "c0154b56-21b5-4607-8693-33e47dc6bcf4",
   "metadata": {},
   "outputs": [
    {
     "data": {
      "text/plain": [
       "123210"
      ]
     },
     "execution_count": 9,
     "metadata": {},
     "output_type": "execute_result"
    }
   ],
   "source": [
    "fha = raw.filter(pl.col(\"loan_type\") == 2)\n",
    "len(fha)"
   ]
  },
  {
   "cell_type": "markdown",
   "id": "4d956766-7b37-4631-abb3-23150cae8d0f",
   "metadata": {},
   "source": [
    "## Actions/outcomes"
   ]
  },
  {
   "cell_type": "code",
   "execution_count": 10,
   "id": "9433f115-815c-4893-b26b-d064a11e1f12",
   "metadata": {},
   "outputs": [],
   "source": [
    "ACTIONS_DICT = {\n",
    "    1: \"1 - Loan originated\",\n",
    "    2: \"2 - Application approved but not accepted\",\n",
    "    3: \"3 - Application denied\",\n",
    "    4: \"4 - Application withdrawn by applicant\",\n",
    "    5: \"5 - File closed for incompleteness\",\n",
    "    6: \"6 - Purchased loan\",\n",
    "    7: \"7 - Preapproval request denied\",\n",
    "    8: \"8 - Preapproval request approved but not accepted\",\n",
    "}"
   ]
  },
  {
   "cell_type": "code",
   "execution_count": 11,
   "id": "974ac426-ceba-4361-bcb0-fe1bdf3ec251",
   "metadata": {},
   "outputs": [
    {
     "name": "stdout",
     "output_type": "stream",
     "text": [
      "Actions taken by loan type:\n"
     ]
    },
    {
     "data": {
      "text/html": [
       "<div><style>\n",
       ".dataframe > thead > tr,\n",
       ".dataframe > tbody > tr {\n",
       "  text-align: right;\n",
       "  white-space: pre-wrap;\n",
       "}\n",
       "</style>\n",
       "<small>shape: (3, 3)</small><table border=\"1\" class=\"dataframe\"><thead><tr><th>action_taken</th><th>1</th><th>2</th></tr><tr><td>str</td><td>f64</td><td>f64</td></tr></thead><tbody><tr><td>&quot;1 - Loan origi…</td><td>0.892352</td><td>0.831394</td></tr><tr><td>&quot;2 - Applicatio…</td><td>0.028205</td><td>0.03266</td></tr><tr><td>&quot;3 - Applicatio…</td><td>0.079442</td><td>0.135947</td></tr></tbody></table></div>"
      ],
      "text/plain": [
       "shape: (3, 3)\n",
       "┌───────────────────────────────────┬──────────┬──────────┐\n",
       "│ action_taken                      ┆ 1        ┆ 2        │\n",
       "│ ---                               ┆ ---      ┆ ---      │\n",
       "│ str                               ┆ f64      ┆ f64      │\n",
       "╞═══════════════════════════════════╪══════════╪══════════╡\n",
       "│ 1 - Loan originated               ┆ 0.892352 ┆ 0.831394 │\n",
       "│ 2 - Application approved but not… ┆ 0.028205 ┆ 0.03266  │\n",
       "│ 3 - Application denied            ┆ 0.079442 ┆ 0.135947 │\n",
       "└───────────────────────────────────┴──────────┴──────────┘"
      ]
     },
     "execution_count": 11,
     "metadata": {},
     "output_type": "execute_result"
    }
   ],
   "source": [
    "(\n",
    "    raw.with_columns(pl.col(\"action_taken\").replace(ACTIONS_DICT))\n",
    "    .group_by(\"loan_type\", \"action_taken\")\n",
    "    .count()\n",
    "    .with_columns(\n",
    "        (pl.col(\"count\") / pl.col(\"count\").sum().over(\"loan_type\")).alias(\"prop\")\n",
    "    )\n",
    "    .sort(\"loan_type\", \"action_taken\")\n",
    "    .pivot(\"prop\", \"action_taken\", \"loan_type\", aggregate_function=None)\n",
    "    .pipe(log, \"Actions taken by loan type\")\n",
    ")"
   ]
  },
  {
   "cell_type": "markdown",
   "id": "f740c845-61c0-4569-9b2a-13591918efc9",
   "metadata": {},
   "source": [
    "## Denial rates by year"
   ]
  },
  {
   "cell_type": "code",
   "execution_count": 12,
   "id": "e078235f-5267-4a5d-b138-763603969f3c",
   "metadata": {},
   "outputs": [
    {
     "name": "stdout",
     "output_type": "stream",
     "text": [
      "Conventional loan denial rates by year:\n"
     ]
    },
    {
     "data": {
      "text/html": [
       "<div><style>\n",
       ".dataframe > thead > tr,\n",
       ".dataframe > tbody > tr {\n",
       "  text-align: right;\n",
       "  white-space: pre-wrap;\n",
       "}\n",
       "</style>\n",
       "<small>shape: (5, 2)</small><table border=\"1\" class=\"dataframe\"><thead><tr><th>activity_year</th><th>denied</th></tr><tr><td>i64</td><td>f64</td></tr></thead><tbody><tr><td>2018</td><td>0.08638</td></tr><tr><td>2019</td><td>0.077816</td></tr><tr><td>2020</td><td>0.079405</td></tr><tr><td>2021</td><td>0.072386</td></tr><tr><td>2022</td><td>0.08339</td></tr></tbody></table></div>"
      ],
      "text/plain": [
       "shape: (5, 2)\n",
       "┌───────────────┬──────────┐\n",
       "│ activity_year ┆ denied   │\n",
       "│ ---           ┆ ---      │\n",
       "│ i64           ┆ f64      │\n",
       "╞═══════════════╪══════════╡\n",
       "│ 2018          ┆ 0.08638  │\n",
       "│ 2019          ┆ 0.077816 │\n",
       "│ 2020          ┆ 0.079405 │\n",
       "│ 2021          ┆ 0.072386 │\n",
       "│ 2022          ┆ 0.08339  │\n",
       "└───────────────┴──────────┘"
      ]
     },
     "execution_count": 12,
     "metadata": {},
     "output_type": "execute_result"
    }
   ],
   "source": [
    "(\n",
    "    raw.filter(pl.col(\"loan_type\").eq(1))\n",
    "    .group_by(\"activity_year\")\n",
    "    .agg(pl.col(\"action_taken\").eq(3).mean().alias(\"denied\"))\n",
    "    .select(\"activity_year\", \"denied\")\n",
    "    .sort(\"activity_year\")\n",
    "    .pipe(log, \"Conventional loan denial rates by year\")\n",
    ")"
   ]
  },
  {
   "cell_type": "markdown",
   "id": "0bfe3bc9-a3ee-4989-98d7-09c7890b49ee",
   "metadata": {},
   "source": [
    "## Ethnicity"
   ]
  },
  {
   "cell_type": "markdown",
   "id": "5ad18575-0a11-4548-89b7-be900731953d",
   "metadata": {},
   "source": [
    "### Conventional loans"
   ]
  },
  {
   "cell_type": "markdown",
   "id": "4b5b0e28-ad25-4efe-b026-eb5b199e9ecf",
   "metadata": {},
   "source": [
    "#### Ethnicity proportions"
   ]
  },
  {
   "cell_type": "code",
   "execution_count": 13,
   "id": "c525ccb6-2720-4da0-8983-0cba2fd56639",
   "metadata": {},
   "outputs": [
    {
     "name": "stdout",
     "output_type": "stream",
     "text": [
      "Detailed ethnicity counts, conventional:\n"
     ]
    },
    {
     "data": {
      "text/html": [
       "<div><style>\n",
       ".dataframe > thead > tr,\n",
       ".dataframe > tbody > tr {\n",
       "  text-align: right;\n",
       "  white-space: pre-wrap;\n",
       "}\n",
       "</style>\n",
       "<small>shape: (9, 3)</small><table border=\"1\" class=\"dataframe\"><thead><tr><th>applicant_ethnicity_1</th><th>count</th><th>pct</th></tr><tr><td>i64</td><td>u32</td><td>f64</td></tr></thead><tbody><tr><td>1</td><td>39339</td><td>9.9</td></tr><tr><td>2</td><td>300069</td><td>75.7</td></tr><tr><td>3</td><td>54149</td><td>13.7</td></tr><tr><td>4</td><td>110</td><td>0.0</td></tr><tr><td>11</td><td>177</td><td>0.0</td></tr><tr><td>12</td><td>595</td><td>0.2</td></tr><tr><td>13</td><td>140</td><td>0.0</td></tr><tr><td>14</td><td>1646</td><td>0.4</td></tr><tr><td>null</td><td>189</td><td>0.0</td></tr></tbody></table></div>"
      ],
      "text/plain": [
       "shape: (9, 3)\n",
       "┌───────────────────────┬────────┬──────┐\n",
       "│ applicant_ethnicity_1 ┆ count  ┆ pct  │\n",
       "│ ---                   ┆ ---    ┆ ---  │\n",
       "│ i64                   ┆ u32    ┆ f64  │\n",
       "╞═══════════════════════╪════════╪══════╡\n",
       "│ 1                     ┆ 39339  ┆ 9.9  │\n",
       "│ 2                     ┆ 300069 ┆ 75.7 │\n",
       "│ 3                     ┆ 54149  ┆ 13.7 │\n",
       "│ 4                     ┆ 110    ┆ 0.0  │\n",
       "│ 11                    ┆ 177    ┆ 0.0  │\n",
       "│ 12                    ┆ 595    ┆ 0.2  │\n",
       "│ 13                    ┆ 140    ┆ 0.0  │\n",
       "│ 14                    ┆ 1646   ┆ 0.4  │\n",
       "│ null                  ┆ 189    ┆ 0.0  │\n",
       "└───────────────────────┴────────┴──────┘"
      ]
     },
     "execution_count": 13,
     "metadata": {},
     "output_type": "execute_result"
    }
   ],
   "source": [
    "(\n",
    "    conventional.with_columns(EXPR_ETHN_SIMPLE)\n",
    "    .pipe(count_with_pct, \"applicant_ethnicity_1\")\n",
    "    .pipe(log, \"Detailed ethnicity counts, conventional\")\n",
    ")"
   ]
  },
  {
   "cell_type": "code",
   "execution_count": 14,
   "id": "ed6b7148-c539-4c8c-a690-ae75d922dd9c",
   "metadata": {},
   "outputs": [
    {
     "name": "stdout",
     "output_type": "stream",
     "text": [
      "Ethnicity counts with 11/12/13/14 codes -> 1X, conventional:\n"
     ]
    },
    {
     "data": {
      "text/html": [
       "<div><style>\n",
       ".dataframe > thead > tr,\n",
       ".dataframe > tbody > tr {\n",
       "  text-align: right;\n",
       "  white-space: pre-wrap;\n",
       "}\n",
       "</style>\n",
       "<small>shape: (6, 3)</small><table border=\"1\" class=\"dataframe\"><thead><tr><th>applicant_ethnicity_1</th><th>count</th><th>pct</th></tr><tr><td>str</td><td>u32</td><td>f64</td></tr></thead><tbody><tr><td>&quot;1&quot;</td><td>39339</td><td>9.9</td></tr><tr><td>&quot;1X&quot;</td><td>2558</td><td>0.6</td></tr><tr><td>&quot;2&quot;</td><td>300069</td><td>75.7</td></tr><tr><td>&quot;3&quot;</td><td>54149</td><td>13.7</td></tr><tr><td>&quot;4&quot;</td><td>110</td><td>0.0</td></tr><tr><td>null</td><td>189</td><td>0.0</td></tr></tbody></table></div>"
      ],
      "text/plain": [
       "shape: (6, 3)\n",
       "┌───────────────────────┬────────┬──────┐\n",
       "│ applicant_ethnicity_1 ┆ count  ┆ pct  │\n",
       "│ ---                   ┆ ---    ┆ ---  │\n",
       "│ str                   ┆ u32    ┆ f64  │\n",
       "╞═══════════════════════╪════════╪══════╡\n",
       "│ 1                     ┆ 39339  ┆ 9.9  │\n",
       "│ 1X                    ┆ 2558   ┆ 0.6  │\n",
       "│ 2                     ┆ 300069 ┆ 75.7 │\n",
       "│ 3                     ┆ 54149  ┆ 13.7 │\n",
       "│ 4                     ┆ 110    ┆ 0.0  │\n",
       "│ null                  ┆ 189    ┆ 0.0  │\n",
       "└───────────────────────┴────────┴──────┘"
      ]
     },
     "execution_count": 14,
     "metadata": {},
     "output_type": "execute_result"
    }
   ],
   "source": [
    "(\n",
    "    conventional.with_columns(\n",
    "        pl.col(\"applicant_ethnicity_1\").str.replace(r\"^1\\d\", \"1X\")\n",
    "    )\n",
    "    .pipe(count_with_pct, \"applicant_ethnicity_1\")\n",
    "    .pipe(log, \"Ethnicity counts with 11/12/13/14 codes -> 1X, conventional\")\n",
    ")"
   ]
  },
  {
   "cell_type": "code",
   "execution_count": 15,
   "id": "5d73b203-e1af-426e-bb7d-aba29d1a9374",
   "metadata": {},
   "outputs": [
    {
     "name": "stdout",
     "output_type": "stream",
     "text": [
      "Simplified ethnicity counts, conventional:\n"
     ]
    },
    {
     "data": {
      "text/html": [
       "<div><style>\n",
       ".dataframe > thead > tr,\n",
       ".dataframe > tbody > tr {\n",
       "  text-align: right;\n",
       "  white-space: pre-wrap;\n",
       "}\n",
       "</style>\n",
       "<small>shape: (5, 3)</small><table border=\"1\" class=\"dataframe\"><thead><tr><th>ethn_simple</th><th>count</th><th>pct</th></tr><tr><td>i64</td><td>u32</td><td>f64</td></tr></thead><tbody><tr><td>1</td><td>41897</td><td>10.6</td></tr><tr><td>2</td><td>300069</td><td>75.7</td></tr><tr><td>3</td><td>54149</td><td>13.7</td></tr><tr><td>4</td><td>110</td><td>0.0</td></tr><tr><td>null</td><td>189</td><td>0.0</td></tr></tbody></table></div>"
      ],
      "text/plain": [
       "shape: (5, 3)\n",
       "┌─────────────┬────────┬──────┐\n",
       "│ ethn_simple ┆ count  ┆ pct  │\n",
       "│ ---         ┆ ---    ┆ ---  │\n",
       "│ i64         ┆ u32    ┆ f64  │\n",
       "╞═════════════╪════════╪══════╡\n",
       "│ 1           ┆ 41897  ┆ 10.6 │\n",
       "│ 2           ┆ 300069 ┆ 75.7 │\n",
       "│ 3           ┆ 54149  ┆ 13.7 │\n",
       "│ 4           ┆ 110    ┆ 0.0  │\n",
       "│ null        ┆ 189    ┆ 0.0  │\n",
       "└─────────────┴────────┴──────┘"
      ]
     },
     "execution_count": 15,
     "metadata": {},
     "output_type": "execute_result"
    }
   ],
   "source": [
    "(\n",
    "    conventional.with_columns(EXPR_ETHN_SIMPLE)\n",
    "    .pipe(count_with_pct, \"ethn_simple\")\n",
    "    .pipe(log, \"Simplified ethnicity counts, conventional\")\n",
    ")"
   ]
  },
  {
   "cell_type": "code",
   "execution_count": 16,
   "id": "257f2c02-aab9-4f7c-868d-60284c27491f",
   "metadata": {},
   "outputs": [
    {
     "name": "stdout",
     "output_type": "stream",
     "text": [
      "Ethnicity rates where known, conventional:\n"
     ]
    },
    {
     "data": {
      "text/html": [
       "<div><style>\n",
       ".dataframe > thead > tr,\n",
       ".dataframe > tbody > tr {\n",
       "  text-align: right;\n",
       "  white-space: pre-wrap;\n",
       "}\n",
       "</style>\n",
       "<small>shape: (2, 3)</small><table border=\"1\" class=\"dataframe\"><thead><tr><th>ethn_simple</th><th>count</th><th>pct</th></tr><tr><td>i64</td><td>u32</td><td>f64</td></tr></thead><tbody><tr><td>1</td><td>41897</td><td>12.3</td></tr><tr><td>2</td><td>300069</td><td>87.7</td></tr></tbody></table></div>"
      ],
      "text/plain": [
       "shape: (2, 3)\n",
       "┌─────────────┬────────┬──────┐\n",
       "│ ethn_simple ┆ count  ┆ pct  │\n",
       "│ ---         ┆ ---    ┆ ---  │\n",
       "│ i64         ┆ u32    ┆ f64  │\n",
       "╞═════════════╪════════╪══════╡\n",
       "│ 1           ┆ 41897  ┆ 12.3 │\n",
       "│ 2           ┆ 300069 ┆ 87.7 │\n",
       "└─────────────┴────────┴──────┘"
      ]
     },
     "execution_count": 16,
     "metadata": {},
     "output_type": "execute_result"
    }
   ],
   "source": [
    "(\n",
    "    conventional.with_columns(EXPR_ETHN_SIMPLE)\n",
    "    .filter(pl.col(\"ethn_simple\") < 3)\n",
    "    .pipe(count_with_pct, \"ethn_simple\")\n",
    "    .pipe(log, \"Ethnicity rates where known, conventional\")\n",
    ")"
   ]
  },
  {
   "cell_type": "markdown",
   "id": "70bbb8c5-a8d7-4d73-a38a-50b8a63f96f4",
   "metadata": {},
   "source": [
    "#### Second-listed ethnicities"
   ]
  },
  {
   "cell_type": "code",
   "execution_count": 17,
   "id": "fe5d20b9-6c34-42db-802c-e6c586a74658",
   "metadata": {},
   "outputs": [
    {
     "name": "stdout",
     "output_type": "stream",
     "text": [
      "Second-listed ethnicities, conventional:\n"
     ]
    },
    {
     "data": {
      "text/html": [
       "<div><style>\n",
       ".dataframe > thead > tr,\n",
       ".dataframe > tbody > tr {\n",
       "  text-align: right;\n",
       "  white-space: pre-wrap;\n",
       "}\n",
       "</style>\n",
       "<small>shape: (7, 3)</small><table border=\"1\" class=\"dataframe\"><thead><tr><th>applicant_ethnicity_2</th><th>count</th><th>pct</th></tr><tr><td>i64</td><td>u32</td><td>f64</td></tr></thead><tbody><tr><td>1</td><td>64</td><td>0.0</td></tr><tr><td>2</td><td>339</td><td>0.1</td></tr><tr><td>11</td><td>1885</td><td>0.5</td></tr><tr><td>12</td><td>4577</td><td>1.2</td></tr><tr><td>13</td><td>1087</td><td>0.3</td></tr><tr><td>14</td><td>8338</td><td>2.1</td></tr><tr><td>null</td><td>380124</td><td>95.9</td></tr></tbody></table></div>"
      ],
      "text/plain": [
       "shape: (7, 3)\n",
       "┌───────────────────────┬────────┬──────┐\n",
       "│ applicant_ethnicity_2 ┆ count  ┆ pct  │\n",
       "│ ---                   ┆ ---    ┆ ---  │\n",
       "│ i64                   ┆ u32    ┆ f64  │\n",
       "╞═══════════════════════╪════════╪══════╡\n",
       "│ 1                     ┆ 64     ┆ 0.0  │\n",
       "│ 2                     ┆ 339    ┆ 0.1  │\n",
       "│ 11                    ┆ 1885   ┆ 0.5  │\n",
       "│ 12                    ┆ 4577   ┆ 1.2  │\n",
       "│ 13                    ┆ 1087   ┆ 0.3  │\n",
       "│ 14                    ┆ 8338   ┆ 2.1  │\n",
       "│ null                  ┆ 380124 ┆ 95.9 │\n",
       "└───────────────────────┴────────┴──────┘"
      ]
     },
     "execution_count": 17,
     "metadata": {},
     "output_type": "execute_result"
    }
   ],
   "source": [
    "(\n",
    "    conventional.pipe(count_with_pct, \"applicant_ethnicity_2\").pipe(\n",
    "        log, \"Second-listed ethnicities, conventional\"\n",
    "    )\n",
    ")"
   ]
  },
  {
   "cell_type": "code",
   "execution_count": 18,
   "id": "2b1b8eb8-98e1-4f67-b4a0-63c8bc57ad6c",
   "metadata": {},
   "outputs": [
    {
     "name": "stdout",
     "output_type": "stream",
     "text": [
      "First vs. second ethnicities, conventional:\n"
     ]
    },
    {
     "data": {
      "text/html": [
       "<div><style>\n",
       ".dataframe > thead > tr,\n",
       ".dataframe > tbody > tr {\n",
       "  text-align: right;\n",
       "  white-space: pre-wrap;\n",
       "}\n",
       "</style>\n",
       "<small>shape: (6, 4)</small><table border=\"1\" class=\"dataframe\"><thead><tr><th>latino_first</th><th>latino_second</th><th>count</th><th>pct</th></tr><tr><td>bool</td><td>bool</td><td>u32</td><td>f64</td></tr></thead><tbody><tr><td>false</td><td>true</td><td>729</td><td>0.2</td></tr><tr><td>false</td><td>null</td><td>353599</td><td>89.2</td></tr><tr><td>true</td><td>false</td><td>339</td><td>0.1</td></tr><tr><td>true</td><td>true</td><td>15222</td><td>3.8</td></tr><tr><td>true</td><td>null</td><td>26336</td><td>6.6</td></tr><tr><td>null</td><td>null</td><td>189</td><td>0.0</td></tr></tbody></table></div>"
      ],
      "text/plain": [
       "shape: (6, 4)\n",
       "┌──────────────┬───────────────┬────────┬──────┐\n",
       "│ latino_first ┆ latino_second ┆ count  ┆ pct  │\n",
       "│ ---          ┆ ---           ┆ ---    ┆ ---  │\n",
       "│ bool         ┆ bool          ┆ u32    ┆ f64  │\n",
       "╞══════════════╪═══════════════╪════════╪══════╡\n",
       "│ false        ┆ true          ┆ 729    ┆ 0.2  │\n",
       "│ false        ┆ null          ┆ 353599 ┆ 89.2 │\n",
       "│ true         ┆ false         ┆ 339    ┆ 0.1  │\n",
       "│ true         ┆ true          ┆ 15222  ┆ 3.8  │\n",
       "│ true         ┆ null          ┆ 26336  ┆ 6.6  │\n",
       "│ null         ┆ null          ┆ 189    ┆ 0.0  │\n",
       "└──────────────┴───────────────┴────────┴──────┘"
      ]
     },
     "execution_count": 18,
     "metadata": {},
     "output_type": "execute_result"
    }
   ],
   "source": [
    "(\n",
    "    conventional.with_columns(\n",
    "        (pl.col(\"applicant_ethnicity_1\").cast(str).str.slice(0, 1) == \"1\").alias(\n",
    "            \"latino_first\"\n",
    "        ),\n",
    "        (pl.col(\"applicant_ethnicity_2\").cast(str).str.slice(0, 1) == \"1\").alias(\n",
    "            \"latino_second\"\n",
    "        ),\n",
    "    )\n",
    "    .pipe(count_with_pct, \"latino_first\", \"latino_second\")\n",
    "    .pipe(log, \"First vs. second ethnicities, conventional\")\n",
    ")"
   ]
  },
  {
   "cell_type": "markdown",
   "id": "7491334e-018b-4961-b28b-868d0818213a",
   "metadata": {},
   "source": [
    "#### Nulls\n",
    "\n",
    "Nulls seem to be due to free-form text:"
   ]
  },
  {
   "cell_type": "code",
   "execution_count": 19,
   "id": "7fa67f66-ff9b-4f9a-991f-3a565e4f04f1",
   "metadata": {},
   "outputs": [
    {
     "data": {
      "text/html": [
       "<div><style>\n",
       ".dataframe > thead > tr,\n",
       ".dataframe > tbody > tr {\n",
       "  text-align: right;\n",
       "  white-space: pre-wrap;\n",
       "}\n",
       "</style>\n",
       "<small>shape: (1, 2)</small><table border=\"1\" class=\"dataframe\"><thead><tr><th>derived_ethnicity</th><th>counts</th></tr><tr><td>str</td><td>u32</td></tr></thead><tbody><tr><td>&quot;Free Form Text…</td><td>189</td></tr></tbody></table></div>"
      ],
      "text/plain": [
       "shape: (1, 2)\n",
       "┌─────────────────────┬────────┐\n",
       "│ derived_ethnicity   ┆ counts │\n",
       "│ ---                 ┆ ---    │\n",
       "│ str                 ┆ u32    │\n",
       "╞═════════════════════╪════════╡\n",
       "│ Free Form Text Only ┆ 189    │\n",
       "└─────────────────────┴────────┘"
      ]
     },
     "execution_count": 19,
     "metadata": {},
     "output_type": "execute_result"
    }
   ],
   "source": [
    "(\n",
    "    conventional.filter(pl.col(\"applicant_ethnicity_1\").is_null())[\n",
    "        \"derived_ethnicity\"\n",
    "    ].value_counts()\n",
    ")"
   ]
  },
  {
   "cell_type": "markdown",
   "id": "70148988-1e3a-4eb4-b0f8-eac0658c32dd",
   "metadata": {},
   "source": [
    "### FHA loans"
   ]
  },
  {
   "cell_type": "markdown",
   "id": "516c40ae-5326-4c33-9fce-5a70a27d859f",
   "metadata": {},
   "source": [
    "#### Ethnicity proportions"
   ]
  },
  {
   "cell_type": "code",
   "execution_count": 20,
   "id": "8bf537c9-b643-4f65-913b-186ed7083f29",
   "metadata": {},
   "outputs": [
    {
     "name": "stdout",
     "output_type": "stream",
     "text": [
      "Detailed ethnicity counts, FHA:\n"
     ]
    },
    {
     "data": {
      "text/html": [
       "<div><style>\n",
       ".dataframe > thead > tr,\n",
       ".dataframe > tbody > tr {\n",
       "  text-align: right;\n",
       "  white-space: pre-wrap;\n",
       "}\n",
       "</style>\n",
       "<small>shape: (9, 3)</small><table border=\"1\" class=\"dataframe\"><thead><tr><th>applicant_ethnicity_1</th><th>count</th><th>pct</th></tr><tr><td>i64</td><td>u32</td><td>f64</td></tr></thead><tbody><tr><td>1</td><td>32432</td><td>26.3</td></tr><tr><td>2</td><td>73633</td><td>59.8</td></tr><tr><td>3</td><td>16195</td><td>13.1</td></tr><tr><td>4</td><td>51</td><td>0.0</td></tr><tr><td>11</td><td>71</td><td>0.1</td></tr><tr><td>12</td><td>287</td><td>0.2</td></tr><tr><td>13</td><td>52</td><td>0.0</td></tr><tr><td>14</td><td>475</td><td>0.4</td></tr><tr><td>null</td><td>14</td><td>0.0</td></tr></tbody></table></div>"
      ],
      "text/plain": [
       "shape: (9, 3)\n",
       "┌───────────────────────┬───────┬──────┐\n",
       "│ applicant_ethnicity_1 ┆ count ┆ pct  │\n",
       "│ ---                   ┆ ---   ┆ ---  │\n",
       "│ i64                   ┆ u32   ┆ f64  │\n",
       "╞═══════════════════════╪═══════╪══════╡\n",
       "│ 1                     ┆ 32432 ┆ 26.3 │\n",
       "│ 2                     ┆ 73633 ┆ 59.8 │\n",
       "│ 3                     ┆ 16195 ┆ 13.1 │\n",
       "│ 4                     ┆ 51    ┆ 0.0  │\n",
       "│ 11                    ┆ 71    ┆ 0.1  │\n",
       "│ 12                    ┆ 287   ┆ 0.2  │\n",
       "│ 13                    ┆ 52    ┆ 0.0  │\n",
       "│ 14                    ┆ 475   ┆ 0.4  │\n",
       "│ null                  ┆ 14    ┆ 0.0  │\n",
       "└───────────────────────┴───────┴──────┘"
      ]
     },
     "execution_count": 20,
     "metadata": {},
     "output_type": "execute_result"
    }
   ],
   "source": [
    "(\n",
    "    fha.with_columns(EXPR_ETHN_SIMPLE)\n",
    "    .pipe(count_with_pct, \"applicant_ethnicity_1\")\n",
    "    .pipe(log, \"Detailed ethnicity counts, FHA\")\n",
    ")"
   ]
  },
  {
   "cell_type": "code",
   "execution_count": 21,
   "id": "986bc3b4-3dba-441c-b516-0db045cdc3b4",
   "metadata": {},
   "outputs": [
    {
     "name": "stdout",
     "output_type": "stream",
     "text": [
      "Ethnicity counts with 11/12/13/14 codes -> 1X, FHA:\n"
     ]
    },
    {
     "data": {
      "text/html": [
       "<div><style>\n",
       ".dataframe > thead > tr,\n",
       ".dataframe > tbody > tr {\n",
       "  text-align: right;\n",
       "  white-space: pre-wrap;\n",
       "}\n",
       "</style>\n",
       "<small>shape: (6, 3)</small><table border=\"1\" class=\"dataframe\"><thead><tr><th>applicant_ethnicity_1</th><th>count</th><th>pct</th></tr><tr><td>str</td><td>u32</td><td>f64</td></tr></thead><tbody><tr><td>&quot;1&quot;</td><td>32432</td><td>26.3</td></tr><tr><td>&quot;1X&quot;</td><td>885</td><td>0.7</td></tr><tr><td>&quot;2&quot;</td><td>73633</td><td>59.8</td></tr><tr><td>&quot;3&quot;</td><td>16195</td><td>13.1</td></tr><tr><td>&quot;4&quot;</td><td>51</td><td>0.0</td></tr><tr><td>null</td><td>14</td><td>0.0</td></tr></tbody></table></div>"
      ],
      "text/plain": [
       "shape: (6, 3)\n",
       "┌───────────────────────┬───────┬──────┐\n",
       "│ applicant_ethnicity_1 ┆ count ┆ pct  │\n",
       "│ ---                   ┆ ---   ┆ ---  │\n",
       "│ str                   ┆ u32   ┆ f64  │\n",
       "╞═══════════════════════╪═══════╪══════╡\n",
       "│ 1                     ┆ 32432 ┆ 26.3 │\n",
       "│ 1X                    ┆ 885   ┆ 0.7  │\n",
       "│ 2                     ┆ 73633 ┆ 59.8 │\n",
       "│ 3                     ┆ 16195 ┆ 13.1 │\n",
       "│ 4                     ┆ 51    ┆ 0.0  │\n",
       "│ null                  ┆ 14    ┆ 0.0  │\n",
       "└───────────────────────┴───────┴──────┘"
      ]
     },
     "execution_count": 21,
     "metadata": {},
     "output_type": "execute_result"
    }
   ],
   "source": [
    "(\n",
    "    fha.with_columns(pl.col(\"applicant_ethnicity_1\").str.replace(r\"^1\\d\", \"1X\"))\n",
    "    .pipe(count_with_pct, \"applicant_ethnicity_1\")\n",
    "    .pipe(log, \"Ethnicity counts with 11/12/13/14 codes -> 1X, FHA\")\n",
    ")"
   ]
  },
  {
   "cell_type": "code",
   "execution_count": 22,
   "id": "90cbb155-0de9-431b-a686-16980f3848e2",
   "metadata": {},
   "outputs": [
    {
     "name": "stdout",
     "output_type": "stream",
     "text": [
      "Simplified ethnicity counts, FHA:\n"
     ]
    },
    {
     "data": {
      "text/html": [
       "<div><style>\n",
       ".dataframe > thead > tr,\n",
       ".dataframe > tbody > tr {\n",
       "  text-align: right;\n",
       "  white-space: pre-wrap;\n",
       "}\n",
       "</style>\n",
       "<small>shape: (5, 3)</small><table border=\"1\" class=\"dataframe\"><thead><tr><th>ethn_simple</th><th>count</th><th>pct</th></tr><tr><td>i64</td><td>u32</td><td>f64</td></tr></thead><tbody><tr><td>1</td><td>33317</td><td>27.0</td></tr><tr><td>2</td><td>73633</td><td>59.8</td></tr><tr><td>3</td><td>16195</td><td>13.1</td></tr><tr><td>4</td><td>51</td><td>0.0</td></tr><tr><td>null</td><td>14</td><td>0.0</td></tr></tbody></table></div>"
      ],
      "text/plain": [
       "shape: (5, 3)\n",
       "┌─────────────┬───────┬──────┐\n",
       "│ ethn_simple ┆ count ┆ pct  │\n",
       "│ ---         ┆ ---   ┆ ---  │\n",
       "│ i64         ┆ u32   ┆ f64  │\n",
       "╞═════════════╪═══════╪══════╡\n",
       "│ 1           ┆ 33317 ┆ 27.0 │\n",
       "│ 2           ┆ 73633 ┆ 59.8 │\n",
       "│ 3           ┆ 16195 ┆ 13.1 │\n",
       "│ 4           ┆ 51    ┆ 0.0  │\n",
       "│ null        ┆ 14    ┆ 0.0  │\n",
       "└─────────────┴───────┴──────┘"
      ]
     },
     "execution_count": 22,
     "metadata": {},
     "output_type": "execute_result"
    }
   ],
   "source": [
    "(\n",
    "    fha.with_columns(EXPR_ETHN_SIMPLE)\n",
    "    .pipe(count_with_pct, \"ethn_simple\")\n",
    "    .pipe(log, \"Simplified ethnicity counts, FHA\")\n",
    ")"
   ]
  },
  {
   "cell_type": "code",
   "execution_count": 23,
   "id": "f9ab83c8-2f2e-4cea-95c6-f75d7e9ca961",
   "metadata": {},
   "outputs": [
    {
     "name": "stdout",
     "output_type": "stream",
     "text": [
      "Ethnicity rates where known, FHA:\n"
     ]
    },
    {
     "data": {
      "text/html": [
       "<div><style>\n",
       ".dataframe > thead > tr,\n",
       ".dataframe > tbody > tr {\n",
       "  text-align: right;\n",
       "  white-space: pre-wrap;\n",
       "}\n",
       "</style>\n",
       "<small>shape: (2, 3)</small><table border=\"1\" class=\"dataframe\"><thead><tr><th>ethn_simple</th><th>count</th><th>pct</th></tr><tr><td>i64</td><td>u32</td><td>f64</td></tr></thead><tbody><tr><td>1</td><td>33317</td><td>31.2</td></tr><tr><td>2</td><td>73633</td><td>68.8</td></tr></tbody></table></div>"
      ],
      "text/plain": [
       "shape: (2, 3)\n",
       "┌─────────────┬───────┬──────┐\n",
       "│ ethn_simple ┆ count ┆ pct  │\n",
       "│ ---         ┆ ---   ┆ ---  │\n",
       "│ i64         ┆ u32   ┆ f64  │\n",
       "╞═════════════╪═══════╪══════╡\n",
       "│ 1           ┆ 33317 ┆ 31.2 │\n",
       "│ 2           ┆ 73633 ┆ 68.8 │\n",
       "└─────────────┴───────┴──────┘"
      ]
     },
     "execution_count": 23,
     "metadata": {},
     "output_type": "execute_result"
    }
   ],
   "source": [
    "(\n",
    "    fha.with_columns(EXPR_ETHN_SIMPLE)\n",
    "    .filter(pl.col(\"ethn_simple\") < 3)\n",
    "    .pipe(count_with_pct, \"ethn_simple\")\n",
    ").pipe(log, \"Ethnicity rates where known, FHA\")"
   ]
  },
  {
   "cell_type": "markdown",
   "id": "d03ee2de-2e8b-424b-9ea3-f13cf7940b0b",
   "metadata": {},
   "source": [
    "#### Second-listed ethnicities"
   ]
  },
  {
   "cell_type": "code",
   "execution_count": 24,
   "id": "4f6e6dec-b1c4-4c31-bc86-62dc32d66bc5",
   "metadata": {},
   "outputs": [
    {
     "name": "stdout",
     "output_type": "stream",
     "text": [
      "Second-listed ethnicities, FHA:\n"
     ]
    },
    {
     "data": {
      "text/html": [
       "<div><style>\n",
       ".dataframe > thead > tr,\n",
       ".dataframe > tbody > tr {\n",
       "  text-align: right;\n",
       "  white-space: pre-wrap;\n",
       "}\n",
       "</style>\n",
       "<small>shape: (7, 3)</small><table border=\"1\" class=\"dataframe\"><thead><tr><th>applicant_ethnicity_2</th><th>count</th><th>pct</th></tr><tr><td>i64</td><td>u32</td><td>f64</td></tr></thead><tbody><tr><td>1</td><td>36</td><td>0.0</td></tr><tr><td>2</td><td>155</td><td>0.1</td></tr><tr><td>11</td><td>1386</td><td>1.1</td></tr><tr><td>12</td><td>3807</td><td>3.1</td></tr><tr><td>13</td><td>400</td><td>0.3</td></tr><tr><td>14</td><td>5824</td><td>4.7</td></tr><tr><td>null</td><td>111602</td><td>90.6</td></tr></tbody></table></div>"
      ],
      "text/plain": [
       "shape: (7, 3)\n",
       "┌───────────────────────┬────────┬──────┐\n",
       "│ applicant_ethnicity_2 ┆ count  ┆ pct  │\n",
       "│ ---                   ┆ ---    ┆ ---  │\n",
       "│ i64                   ┆ u32    ┆ f64  │\n",
       "╞═══════════════════════╪════════╪══════╡\n",
       "│ 1                     ┆ 36     ┆ 0.0  │\n",
       "│ 2                     ┆ 155    ┆ 0.1  │\n",
       "│ 11                    ┆ 1386   ┆ 1.1  │\n",
       "│ 12                    ┆ 3807   ┆ 3.1  │\n",
       "│ 13                    ┆ 400    ┆ 0.3  │\n",
       "│ 14                    ┆ 5824   ┆ 4.7  │\n",
       "│ null                  ┆ 111602 ┆ 90.6 │\n",
       "└───────────────────────┴────────┴──────┘"
      ]
     },
     "execution_count": 24,
     "metadata": {},
     "output_type": "execute_result"
    }
   ],
   "source": [
    "(\n",
    "    fha.pipe(count_with_pct, \"applicant_ethnicity_2\").pipe(\n",
    "        log, \"Second-listed ethnicities, FHA\"\n",
    "    )\n",
    ")"
   ]
  },
  {
   "cell_type": "markdown",
   "id": "0194482d-fbe0-442c-ac18-3548ac592d4e",
   "metadata": {},
   "source": [
    "## Ethnicity observation methods"
   ]
  },
  {
   "cell_type": "code",
   "execution_count": 25,
   "id": "061c732b-fd3a-46c4-b8d7-067ae7bf80ca",
   "metadata": {},
   "outputs": [
    {
     "name": "stdout",
     "output_type": "stream",
     "text": [
      "Ethnicity observation method by loan type and simplified ethnicity:\n"
     ]
    },
    {
     "data": {
      "text/html": [
       "<div><style>\n",
       ".dataframe > thead > tr,\n",
       ".dataframe > tbody > tr {\n",
       "  text-align: right;\n",
       "  white-space: pre-wrap;\n",
       "}\n",
       "</style>\n",
       "<small>shape: (4, 5)</small><table border=\"1\" class=\"dataframe\"><thead><tr><th>loan_type</th><th>ethn_simple</th><th>1</th><th>2</th><th>3</th></tr><tr><td>i64</td><td>i64</td><td>f64</td><td>f64</td><td>f64</td></tr></thead><tbody><tr><td>1</td><td>1</td><td>0.01962</td><td>0.903812</td><td>0.076569</td></tr><tr><td>1</td><td>2</td><td>0.012354</td><td>0.920658</td><td>0.066988</td></tr><tr><td>2</td><td>1</td><td>0.028604</td><td>0.871447</td><td>0.099949</td></tr><tr><td>2</td><td>2</td><td>0.02302</td><td>0.887252</td><td>0.089729</td></tr></tbody></table></div>"
      ],
      "text/plain": [
       "shape: (4, 5)\n",
       "┌───────────┬─────────────┬──────────┬──────────┬──────────┐\n",
       "│ loan_type ┆ ethn_simple ┆ 1        ┆ 2        ┆ 3        │\n",
       "│ ---       ┆ ---         ┆ ---      ┆ ---      ┆ ---      │\n",
       "│ i64       ┆ i64         ┆ f64      ┆ f64      ┆ f64      │\n",
       "╞═══════════╪═════════════╪══════════╪══════════╪══════════╡\n",
       "│ 1         ┆ 1           ┆ 0.01962  ┆ 0.903812 ┆ 0.076569 │\n",
       "│ 1         ┆ 2           ┆ 0.012354 ┆ 0.920658 ┆ 0.066988 │\n",
       "│ 2         ┆ 1           ┆ 0.028604 ┆ 0.871447 ┆ 0.099949 │\n",
       "│ 2         ┆ 2           ┆ 0.02302  ┆ 0.887252 ┆ 0.089729 │\n",
       "└───────────┴─────────────┴──────────┴──────────┴──────────┘"
      ]
     },
     "execution_count": 25,
     "metadata": {},
     "output_type": "execute_result"
    }
   ],
   "source": [
    "(\n",
    "    raw.with_columns(EXPR_ETHN_SIMPLE)\n",
    "    .filter(pl.col(\"ethn_simple\").le(2))\n",
    "    .group_by(\"loan_type\", \"ethn_simple\", \"applicant_ethnicity_observed\")\n",
    "    .count()\n",
    "    .with_columns(\n",
    "        (\n",
    "            pl.col(\"count\") / pl.col(\"count\").sum().over(\"loan_type\", \"ethn_simple\")\n",
    "        ).alias(\"prop\")\n",
    "    )\n",
    "    .sort(\"loan_type\", \"ethn_simple\", \"applicant_ethnicity_observed\")\n",
    "    .pivot(\n",
    "        \"prop\",\n",
    "        (\"loan_type\", \"ethn_simple\"),\n",
    "        \"applicant_ethnicity_observed\",\n",
    "        aggregate_function=None,\n",
    "    )\n",
    "    .pipe(log, \"Ethnicity observation method by loan type and simplified ethnicity\")\n",
    ")"
   ]
  },
  {
   "cell_type": "markdown",
   "id": "70b06e53-1ad1-4b01-8408-68500ec32c77",
   "metadata": {},
   "source": [
    "#### Compared to observation method for race/sex"
   ]
  },
  {
   "cell_type": "code",
   "execution_count": 26,
   "id": "085268fa-fa0f-46f6-a099-05065697aba6",
   "metadata": {},
   "outputs": [
    {
     "name": "stdout",
     "output_type": "stream",
     "text": [
      "Race observation method by loan type:\n"
     ]
    },
    {
     "data": {
      "text/html": [
       "<div><style>\n",
       ".dataframe > thead > tr,\n",
       ".dataframe > tbody > tr {\n",
       "  text-align: right;\n",
       "  white-space: pre-wrap;\n",
       "}\n",
       "</style>\n",
       "<small>shape: (2, 4)</small><table border=\"1\" class=\"dataframe\"><thead><tr><th>loan_type</th><th>1</th><th>2</th><th>3</th></tr><tr><td>i64</td><td>f64</td><td>f64</td><td>f64</td></tr></thead><tbody><tr><td>1</td><td>0.013582</td><td>0.917551</td><td>0.068867</td></tr><tr><td>2</td><td>0.026385</td><td>0.879879</td><td>0.093736</td></tr></tbody></table></div>"
      ],
      "text/plain": [
       "shape: (2, 4)\n",
       "┌───────────┬──────────┬──────────┬──────────┐\n",
       "│ loan_type ┆ 1        ┆ 2        ┆ 3        │\n",
       "│ ---       ┆ ---      ┆ ---      ┆ ---      │\n",
       "│ i64       ┆ f64      ┆ f64      ┆ f64      │\n",
       "╞═══════════╪══════════╪══════════╪══════════╡\n",
       "│ 1         ┆ 0.013582 ┆ 0.917551 ┆ 0.068867 │\n",
       "│ 2         ┆ 0.026385 ┆ 0.879879 ┆ 0.093736 │\n",
       "└───────────┴──────────┴──────────┴──────────┘"
      ]
     },
     "execution_count": 26,
     "metadata": {},
     "output_type": "execute_result"
    }
   ],
   "source": [
    "(\n",
    "    raw.filter(~pl.col(\"applicant_race_1\").is_in([6, 7]).fill_null(True))\n",
    "    .group_by(\"loan_type\", \"applicant_race_observed\")\n",
    "    .count()\n",
    "    .with_columns(\n",
    "        (pl.col(\"count\") / pl.col(\"count\").sum().over(\"loan_type\")).alias(\"prop\")\n",
    "    )\n",
    "    .sort(\"loan_type\", \"applicant_race_observed\")\n",
    "    .pivot(\"prop\", \"loan_type\", \"applicant_race_observed\", aggregate_function=None)\n",
    "    .pipe(log, \"Race observation method by loan type\")\n",
    ")"
   ]
  },
  {
   "cell_type": "code",
   "execution_count": 27,
   "id": "1c16c83e-6d66-49b7-83e4-6999f82ec3fe",
   "metadata": {},
   "outputs": [
    {
     "name": "stdout",
     "output_type": "stream",
     "text": [
      "Sex observation method by loan type:\n"
     ]
    },
    {
     "data": {
      "text/html": [
       "<div><style>\n",
       ".dataframe > thead > tr,\n",
       ".dataframe > tbody > tr {\n",
       "  text-align: right;\n",
       "  white-space: pre-wrap;\n",
       "}\n",
       "</style>\n",
       "<small>shape: (2, 4)</small><table border=\"1\" class=\"dataframe\"><thead><tr><th>loan_type</th><th>1</th><th>2</th><th>3</th></tr><tr><td>i64</td><td>f64</td><td>f64</td><td>f64</td></tr></thead><tbody><tr><td>1</td><td>0.013021</td><td>0.918908</td><td>0.068071</td></tr><tr><td>2</td><td>0.022921</td><td>0.883595</td><td>0.093484</td></tr></tbody></table></div>"
      ],
      "text/plain": [
       "shape: (2, 4)\n",
       "┌───────────┬──────────┬──────────┬──────────┐\n",
       "│ loan_type ┆ 1        ┆ 2        ┆ 3        │\n",
       "│ ---       ┆ ---      ┆ ---      ┆ ---      │\n",
       "│ i64       ┆ f64      ┆ f64      ┆ f64      │\n",
       "╞═══════════╪══════════╪══════════╪══════════╡\n",
       "│ 1         ┆ 0.013021 ┆ 0.918908 ┆ 0.068071 │\n",
       "│ 2         ┆ 0.022921 ┆ 0.883595 ┆ 0.093484 │\n",
       "└───────────┴──────────┴──────────┴──────────┘"
      ]
     },
     "execution_count": 27,
     "metadata": {},
     "output_type": "execute_result"
    }
   ],
   "source": [
    "(\n",
    "    raw.filter(~pl.col(\"applicant_sex\").is_in([3, 4]).fill_null(True))\n",
    "    .group_by(\"loan_type\", \"applicant_sex_observed\")\n",
    "    .count()\n",
    "    .with_columns(\n",
    "        (pl.col(\"count\") / pl.col(\"count\").sum().over(\"loan_type\")).alias(\"prop\")\n",
    "    )\n",
    "    .sort(\"loan_type\", \"applicant_sex_observed\")\n",
    "    .pivot(\"prop\", \"loan_type\", \"applicant_sex_observed\", aggregate_function=None)\n",
    "    .pipe(log, \"Sex observation method by loan type\")\n",
    ")"
   ]
  },
  {
   "cell_type": "markdown",
   "id": "7ce183a0-f972-4c83-8ef3-ae25d11d0454",
   "metadata": {},
   "source": [
    "## Race and race/ethnicity combination"
   ]
  },
  {
   "cell_type": "markdown",
   "id": "5f8665c8-b5ad-44b2-9f42-d4cd2db79476",
   "metadata": {},
   "source": [
    "### Simplified race variable"
   ]
  },
  {
   "cell_type": "code",
   "execution_count": 28,
   "id": "c8c168ef-2860-405b-b3d0-52a2ca99202d",
   "metadata": {},
   "outputs": [
    {
     "name": "stdout",
     "output_type": "stream",
     "text": [
      "Simplified race counts, overall:\n"
     ]
    },
    {
     "data": {
      "text/html": [
       "<div><style>\n",
       ".dataframe > thead > tr,\n",
       ".dataframe > tbody > tr {\n",
       "  text-align: right;\n",
       "  white-space: pre-wrap;\n",
       "}\n",
       "</style>\n",
       "<small>shape: (6, 3)</small><table border=\"1\" class=\"dataframe\"><thead><tr><th>race_simple</th><th>count</th><th>pct</th></tr><tr><td>str</td><td>u32</td><td>f64</td></tr></thead><tbody><tr><td>&quot;white&quot;</td><td>327725</td><td>63.1</td></tr><tr><td>&quot;missing&quot;</td><td>78324</td><td>15.1</td></tr><tr><td>&quot;asian&quot;</td><td>64394</td><td>12.4</td></tr><tr><td>&quot;black&quot;</td><td>46660</td><td>9.0</td></tr><tr><td>&quot;native&quot;</td><td>1670</td><td>0.3</td></tr><tr><td>&quot;pacific_island…</td><td>851</td><td>0.2</td></tr></tbody></table></div>"
      ],
      "text/plain": [
       "shape: (6, 3)\n",
       "┌──────────────────┬────────┬──────┐\n",
       "│ race_simple      ┆ count  ┆ pct  │\n",
       "│ ---              ┆ ---    ┆ ---  │\n",
       "│ str              ┆ u32    ┆ f64  │\n",
       "╞══════════════════╪════════╪══════╡\n",
       "│ white            ┆ 327725 ┆ 63.1 │\n",
       "│ missing          ┆ 78324  ┆ 15.1 │\n",
       "│ asian            ┆ 64394  ┆ 12.4 │\n",
       "│ black            ┆ 46660  ┆ 9.0  │\n",
       "│ native           ┆ 1670   ┆ 0.3  │\n",
       "│ pacific_islander ┆ 851    ┆ 0.2  │\n",
       "└──────────────────┴────────┴──────┘"
      ]
     },
     "execution_count": 28,
     "metadata": {},
     "output_type": "execute_result"
    }
   ],
   "source": [
    "(\n",
    "    raw.select(EXPR_RACE_SIMPLE)\n",
    "    .pipe(count_with_pct, \"race_simple\")\n",
    "    .sort(\"count\", descending=True)\n",
    "    .pipe(log, \"Simplified race counts, overall\")\n",
    ")"
   ]
  },
  {
   "cell_type": "code",
   "execution_count": 29,
   "id": "d5e34d94-408d-4919-a353-20a7e962ae1c",
   "metadata": {},
   "outputs": [
    {
     "name": "stdout",
     "output_type": "stream",
     "text": [
      "applicant_race_1 -> race_simple assignments:\n"
     ]
    },
    {
     "data": {
      "text/html": [
       "<div><style>\n",
       ".dataframe > thead > tr,\n",
       ".dataframe > tbody > tr {\n",
       "  text-align: right;\n",
       "  white-space: pre-wrap;\n",
       "}\n",
       "</style>\n",
       "<small>shape: (19, 3)</small><table border=\"1\" class=\"dataframe\"><thead><tr><th>applicant_race_1</th><th>race_simple</th><th>count</th></tr><tr><td>i64</td><td>str</td><td>u32</td></tr></thead><tbody><tr><td>null</td><td>&quot;missing&quot;</td><td>88</td></tr><tr><td>1</td><td>&quot;native&quot;</td><td>1670</td></tr><tr><td>2</td><td>&quot;asian&quot;</td><td>54936</td></tr><tr><td>3</td><td>&quot;black&quot;</td><td>46660</td></tr><tr><td>4</td><td>&quot;pacific_island…</td><td>558</td></tr><tr><td>5</td><td>&quot;white&quot;</td><td>327725</td></tr><tr><td>6</td><td>&quot;missing&quot;</td><td>78077</td></tr><tr><td>7</td><td>&quot;missing&quot;</td><td>159</td></tr><tr><td>21</td><td>&quot;asian&quot;</td><td>6353</td></tr><tr><td>22</td><td>&quot;asian&quot;</td><td>1098</td></tr><tr><td>23</td><td>&quot;asian&quot;</td><td>491</td></tr><tr><td>24</td><td>&quot;asian&quot;</td><td>69</td></tr><tr><td>25</td><td>&quot;asian&quot;</td><td>516</td></tr><tr><td>26</td><td>&quot;asian&quot;</td><td>109</td></tr><tr><td>27</td><td>&quot;asian&quot;</td><td>822</td></tr><tr><td>41</td><td>&quot;pacific_island…</td><td>2</td></tr><tr><td>42</td><td>&quot;pacific_island…</td><td>12</td></tr><tr><td>43</td><td>&quot;pacific_island…</td><td>1</td></tr><tr><td>44</td><td>&quot;pacific_island…</td><td>278</td></tr></tbody></table></div>"
      ],
      "text/plain": [
       "shape: (19, 3)\n",
       "┌──────────────────┬──────────────────┬───────┐\n",
       "│ applicant_race_1 ┆ race_simple      ┆ count │\n",
       "│ ---              ┆ ---              ┆ ---   │\n",
       "│ i64              ┆ str              ┆ u32   │\n",
       "╞══════════════════╪══════════════════╪═══════╡\n",
       "│ null             ┆ missing          ┆ 88    │\n",
       "│ 1                ┆ native           ┆ 1670  │\n",
       "│ 2                ┆ asian            ┆ 54936 │\n",
       "│ 3                ┆ black            ┆ 46660 │\n",
       "│ …                ┆ …                ┆ …     │\n",
       "│ 41               ┆ pacific_islander ┆ 2     │\n",
       "│ 42               ┆ pacific_islander ┆ 12    │\n",
       "│ 43               ┆ pacific_islander ┆ 1     │\n",
       "│ 44               ┆ pacific_islander ┆ 278   │\n",
       "└──────────────────┴──────────────────┴───────┘"
      ]
     },
     "execution_count": 29,
     "metadata": {},
     "output_type": "execute_result"
    }
   ],
   "source": [
    "(\n",
    "    raw.group_by(\"applicant_race_1\", EXPR_RACE_SIMPLE)\n",
    "    .count()\n",
    "    .sort(\"applicant_race_1\", \"race_simple\")\n",
    "    .pipe(log, \"applicant_race_1 -> race_simple assignments\")\n",
    ")"
   ]
  },
  {
   "cell_type": "code",
   "execution_count": 30,
   "id": "2d46e4ca-5a62-46a1-8745-719f0ed73607",
   "metadata": {},
   "outputs": [
    {
     "name": "stdout",
     "output_type": "stream",
     "text": [
      "Race for H/L, by loan type:\n"
     ]
    },
    {
     "data": {
      "text/html": [
       "<div><style>\n",
       ".dataframe > thead > tr,\n",
       ".dataframe > tbody > tr {\n",
       "  text-align: right;\n",
       "  white-space: pre-wrap;\n",
       "}\n",
       "</style>\n",
       "<small>shape: (6, 3)</small><table border=\"1\" class=\"dataframe\"><thead><tr><th>race_simple</th><th>1</th><th>2</th></tr><tr><td>str</td><td>f64</td><td>f64</td></tr></thead><tbody><tr><td>&quot;white&quot;</td><td>0.767263</td><td>0.81715</td></tr><tr><td>&quot;missing&quot;</td><td>0.154832</td><td>0.120329</td></tr><tr><td>&quot;black&quot;</td><td>0.04017</td><td>0.046463</td></tr><tr><td>&quot;asian&quot;</td><td>0.021147</td><td>0.004802</td></tr><tr><td>&quot;native&quot;</td><td>0.011313</td><td>0.007564</td></tr><tr><td>&quot;pacific_island…</td><td>0.005275</td><td>0.003692</td></tr></tbody></table></div>"
      ],
      "text/plain": [
       "shape: (6, 3)\n",
       "┌──────────────────┬──────────┬──────────┐\n",
       "│ race_simple      ┆ 1        ┆ 2        │\n",
       "│ ---              ┆ ---      ┆ ---      │\n",
       "│ str              ┆ f64      ┆ f64      │\n",
       "╞══════════════════╪══════════╪══════════╡\n",
       "│ white            ┆ 0.767263 ┆ 0.81715  │\n",
       "│ missing          ┆ 0.154832 ┆ 0.120329 │\n",
       "│ black            ┆ 0.04017  ┆ 0.046463 │\n",
       "│ asian            ┆ 0.021147 ┆ 0.004802 │\n",
       "│ native           ┆ 0.011313 ┆ 0.007564 │\n",
       "│ pacific_islander ┆ 0.005275 ┆ 0.003692 │\n",
       "└──────────────────┴──────────┴──────────┘"
      ]
     },
     "execution_count": 30,
     "metadata": {},
     "output_type": "execute_result"
    }
   ],
   "source": [
    "(\n",
    "    raw.with_columns(EXPR_ETHN_SIMPLE)\n",
    "    .with_columns(EXPR_RACE_SIMPLE)\n",
    "    .filter(pl.col(\"ethn_simple\").eq(1))\n",
    "    .group_by(\"loan_type\", \"race_simple\")\n",
    "    .count()\n",
    "    .with_columns(\n",
    "        (pl.col(\"count\") / pl.col(\"count\").sum().over(\"loan_type\")).alias(\"prop\")\n",
    "    )\n",
    "    .sort(\"loan_type\", \"prop\", descending=(False, True))\n",
    "    .pivot(\"prop\", \"race_simple\", \"loan_type\", aggregate_function=None)\n",
    "    .pipe(log, \"Race for H/L, by loan type\")\n",
    ")"
   ]
  },
  {
   "cell_type": "code",
   "execution_count": 31,
   "id": "7f1eb5b2-91b6-4676-acf9-3a436fe3b27f",
   "metadata": {},
   "outputs": [
    {
     "name": "stdout",
     "output_type": "stream",
     "text": [
      "Race for H/L, excl. missing:\n"
     ]
    },
    {
     "data": {
      "text/html": [
       "<div><style>\n",
       ".dataframe > thead > tr,\n",
       ".dataframe > tbody > tr {\n",
       "  text-align: right;\n",
       "  white-space: pre-wrap;\n",
       "}\n",
       "</style>\n",
       "<small>shape: (5, 3)</small><table border=\"1\" class=\"dataframe\"><thead><tr><th>race_simple</th><th>1</th><th>2</th></tr><tr><td>str</td><td>f64</td><td>f64</td></tr></thead><tbody><tr><td>&quot;white&quot;</td><td>0.907823</td><td>0.928927</td></tr><tr><td>&quot;black&quot;</td><td>0.047529</td><td>0.052818</td></tr><tr><td>&quot;asian&quot;</td><td>0.025021</td><td>0.005459</td></tr><tr><td>&quot;native&quot;</td><td>0.013386</td><td>0.008598</td></tr><tr><td>&quot;pacific_island…</td><td>0.006241</td><td>0.004197</td></tr></tbody></table></div>"
      ],
      "text/plain": [
       "shape: (5, 3)\n",
       "┌──────────────────┬──────────┬──────────┐\n",
       "│ race_simple      ┆ 1        ┆ 2        │\n",
       "│ ---              ┆ ---      ┆ ---      │\n",
       "│ str              ┆ f64      ┆ f64      │\n",
       "╞══════════════════╪══════════╪══════════╡\n",
       "│ white            ┆ 0.907823 ┆ 0.928927 │\n",
       "│ black            ┆ 0.047529 ┆ 0.052818 │\n",
       "│ asian            ┆ 0.025021 ┆ 0.005459 │\n",
       "│ native           ┆ 0.013386 ┆ 0.008598 │\n",
       "│ pacific_islander ┆ 0.006241 ┆ 0.004197 │\n",
       "└──────────────────┴──────────┴──────────┘"
      ]
     },
     "execution_count": 31,
     "metadata": {},
     "output_type": "execute_result"
    }
   ],
   "source": [
    "(\n",
    "    raw.with_columns(EXPR_ETHN_SIMPLE)\n",
    "    .with_columns(EXPR_RACE_SIMPLE)\n",
    "    .filter(pl.col(\"ethn_simple\").eq(1))\n",
    "    .filter(~pl.col(\"race_simple\").eq(\"missing\"))\n",
    "    .group_by(\"loan_type\", \"race_simple\")\n",
    "    .count()\n",
    "    .with_columns(\n",
    "        (pl.col(\"count\") / pl.col(\"count\").sum().over(\"loan_type\")).alias(\"prop\")\n",
    "    )\n",
    "    .sort(\"loan_type\", \"prop\", descending=(False, True))\n",
    "    .pivot(\"prop\", \"race_simple\", \"loan_type\", aggregate_function=None)\n",
    "    .pipe(log, \"Race for H/L, excl. missing\")\n",
    ")"
   ]
  },
  {
   "cell_type": "markdown",
   "id": "f8f64e79-19fd-4410-8e25-b098ef90e1e3",
   "metadata": {},
   "source": [
    "### `race_ethn` variable"
   ]
  },
  {
   "cell_type": "code",
   "execution_count": 32,
   "id": "e5fa487d-eabb-4dd0-8c87-e8a949c3f06c",
   "metadata": {},
   "outputs": [
    {
     "name": "stdout",
     "output_type": "stream",
     "text": [
      "race_ethn counts, overall:\n"
     ]
    },
    {
     "data": {
      "text/html": [
       "<div><style>\n",
       ".dataframe > thead > tr,\n",
       ".dataframe > tbody > tr {\n",
       "  text-align: right;\n",
       "  white-space: pre-wrap;\n",
       "}\n",
       "</style>\n",
       "<small>shape: (7, 2)</small><table border=\"1\" class=\"dataframe\"><thead><tr><th>race_ethn</th><th>counts</th></tr><tr><td>str</td><td>u32</td></tr></thead><tbody><tr><td>&quot;white&quot;</td><td>268354</td></tr><tr><td>&quot;hl&quot;</td><td>75214</td></tr><tr><td>&quot;missing&quot;</td><td>67828</td></tr><tr><td>&quot;asian&quot;</td><td>63348</td></tr><tr><td>&quot;black&quot;</td><td>43429</td></tr><tr><td>&quot;native&quot;</td><td>944</td></tr><tr><td>&quot;pacific_island…</td><td>507</td></tr></tbody></table></div>"
      ],
      "text/plain": [
       "shape: (7, 2)\n",
       "┌──────────────────┬────────┐\n",
       "│ race_ethn        ┆ counts │\n",
       "│ ---              ┆ ---    │\n",
       "│ str              ┆ u32    │\n",
       "╞══════════════════╪════════╡\n",
       "│ white            ┆ 268354 │\n",
       "│ hl               ┆ 75214  │\n",
       "│ missing          ┆ 67828  │\n",
       "│ asian            ┆ 63348  │\n",
       "│ black            ┆ 43429  │\n",
       "│ native           ┆ 944    │\n",
       "│ pacific_islander ┆ 507    │\n",
       "└──────────────────┴────────┘"
      ]
     },
     "execution_count": 32,
     "metadata": {},
     "output_type": "execute_result"
    }
   ],
   "source": [
    "(\n",
    "    raw.with_columns(EXPR_ETHN_SIMPLE)\n",
    "    .with_columns(EXPR_RACE_SIMPLE)\n",
    "    .with_columns(EXPR_RACE_ETHN)[\"race_ethn\"]\n",
    "    .value_counts(sort=True)\n",
    "    .pipe(log, \"race_ethn counts, overall\")\n",
    ")"
   ]
  },
  {
   "cell_type": "code",
   "execution_count": 33,
   "id": "2b86c703-62af-4f0f-8958-a33ec8c5cf1f",
   "metadata": {},
   "outputs": [
    {
     "name": "stdout",
     "output_type": "stream",
     "text": [
      "race_simple + ethn_simple -> race_ethn, overall:\n"
     ]
    },
    {
     "data": {
      "text/html": [
       "<div><style>\n",
       ".dataframe > thead > tr,\n",
       ".dataframe > tbody > tr {\n",
       "  text-align: right;\n",
       "  white-space: pre-wrap;\n",
       "}\n",
       "</style>\n",
       "<small>shape: (28, 4)</small><table border=\"1\" class=\"dataframe\"><thead><tr><th>race_simple</th><th>ethn_simple</th><th>race_ethn</th><th>count</th></tr><tr><td>str</td><td>i64</td><td>str</td><td>u32</td></tr></thead><tbody><tr><td>&quot;asian&quot;</td><td>null</td><td>&quot;asian&quot;</td><td>60</td></tr><tr><td>&quot;asian&quot;</td><td>1</td><td>&quot;hl&quot;</td><td>1046</td></tr><tr><td>&quot;asian&quot;</td><td>2</td><td>&quot;asian&quot;</td><td>61268</td></tr><tr><td>&quot;asian&quot;</td><td>3</td><td>&quot;asian&quot;</td><td>2009</td></tr><tr><td>&quot;asian&quot;</td><td>4</td><td>&quot;asian&quot;</td><td>11</td></tr><tr><td>&quot;black&quot;</td><td>null</td><td>&quot;black&quot;</td><td>25</td></tr><tr><td>&quot;black&quot;</td><td>1</td><td>&quot;hl&quot;</td><td>3231</td></tr><tr><td>&quot;black&quot;</td><td>2</td><td>&quot;black&quot;</td><td>41800</td></tr><tr><td>&quot;black&quot;</td><td>3</td><td>&quot;black&quot;</td><td>1590</td></tr><tr><td>&quot;black&quot;</td><td>4</td><td>&quot;black&quot;</td><td>14</td></tr><tr><td>&quot;missing&quot;</td><td>null</td><td>&quot;missing&quot;</td><td>43</td></tr><tr><td>&quot;missing&quot;</td><td>1</td><td>&quot;hl&quot;</td><td>10496</td></tr><tr><td>&hellip;</td><td>&hellip;</td><td>&hellip;</td><td>&hellip;</td></tr><tr><td>&quot;native&quot;</td><td>1</td><td>&quot;hl&quot;</td><td>726</td></tr><tr><td>&quot;native&quot;</td><td>2</td><td>&quot;native&quot;</td><td>836</td></tr><tr><td>&quot;native&quot;</td><td>3</td><td>&quot;native&quot;</td><td>105</td></tr><tr><td>&quot;native&quot;</td><td>4</td><td>&quot;native&quot;</td><td>1</td></tr><tr><td>&quot;pacific_island…</td><td>1</td><td>&quot;hl&quot;</td><td>344</td></tr><tr><td>&quot;pacific_island…</td><td>2</td><td>&quot;pacific_island…</td><td>469</td></tr><tr><td>&quot;pacific_island…</td><td>3</td><td>&quot;pacific_island…</td><td>38</td></tr><tr><td>&quot;white&quot;</td><td>null</td><td>&quot;white&quot;</td><td>73</td></tr><tr><td>&quot;white&quot;</td><td>1</td><td>&quot;hl&quot;</td><td>59371</td></tr><tr><td>&quot;white&quot;</td><td>2</td><td>&quot;white&quot;</td><td>260514</td></tr><tr><td>&quot;white&quot;</td><td>3</td><td>&quot;white&quot;</td><td>7711</td></tr><tr><td>&quot;white&quot;</td><td>4</td><td>&quot;white&quot;</td><td>56</td></tr></tbody></table></div>"
      ],
      "text/plain": [
       "shape: (28, 4)\n",
       "┌─────────────┬─────────────┬───────────┬────────┐\n",
       "│ race_simple ┆ ethn_simple ┆ race_ethn ┆ count  │\n",
       "│ ---         ┆ ---         ┆ ---       ┆ ---    │\n",
       "│ str         ┆ i64         ┆ str       ┆ u32    │\n",
       "╞═════════════╪═════════════╪═══════════╪════════╡\n",
       "│ asian       ┆ null        ┆ asian     ┆ 60     │\n",
       "│ asian       ┆ 1           ┆ hl        ┆ 1046   │\n",
       "│ asian       ┆ 2           ┆ asian     ┆ 61268  │\n",
       "│ asian       ┆ 3           ┆ asian     ┆ 2009   │\n",
       "│ …           ┆ …           ┆ …         ┆ …      │\n",
       "│ white       ┆ 1           ┆ hl        ┆ 59371  │\n",
       "│ white       ┆ 2           ┆ white     ┆ 260514 │\n",
       "│ white       ┆ 3           ┆ white     ┆ 7711   │\n",
       "│ white       ┆ 4           ┆ white     ┆ 56     │\n",
       "└─────────────┴─────────────┴───────────┴────────┘"
      ]
     },
     "execution_count": 33,
     "metadata": {},
     "output_type": "execute_result"
    }
   ],
   "source": [
    "(\n",
    "    raw.with_columns(EXPR_ETHN_SIMPLE)\n",
    "    .with_columns(EXPR_RACE_SIMPLE)\n",
    "    .with_columns(EXPR_RACE_ETHN)\n",
    "    .group_by(\"race_simple\", \"ethn_simple\", \"race_ethn\")\n",
    "    .count()\n",
    "    .sort(\"race_simple\", \"ethn_simple\", \"race_ethn\")\n",
    "    .pipe(log, \"race_simple + ethn_simple -> race_ethn, overall\")\n",
    ")"
   ]
  },
  {
   "cell_type": "markdown",
   "id": "933afa88-92a5-44a3-85c2-c8f8b1fcc32f",
   "metadata": {},
   "source": [
    "## Aggregate metrics by loan type, county, etc."
   ]
  },
  {
   "cell_type": "code",
   "execution_count": 34,
   "id": "f1c3d4d0-e251-4054-b920-6e38b289780c",
   "metadata": {},
   "outputs": [],
   "source": [
    "raw_with_race_ethn = (\n",
    "    raw.with_columns(EXPR_ETHN_SIMPLE)\n",
    "    .with_columns(EXPR_RACE_SIMPLE)\n",
    "    .with_columns(EXPR_RACE_ETHN)\n",
    ")"
   ]
  },
  {
   "cell_type": "code",
   "execution_count": 35,
   "id": "7a27ff4d-5dfa-48d1-93e9-c18ae1ac1c26",
   "metadata": {},
   "outputs": [],
   "source": [
    "AGG_DEMOG_MISSING = (\n",
    "    (pl.col(\"ethn_simple\").gt(2).mean().alias(\"prop_ethn_missing\")),\n",
    "    (\n",
    "        pl.col(\"applicant_race_1\")\n",
    "        .is_in([6, 7])\n",
    "        .fill_null(True)\n",
    "        .mean()\n",
    "        .alias(\"prop_race_missing\")\n",
    "    ),\n",
    "    (\n",
    "        pl.col(\"applicant_sex\")\n",
    "        .is_in([3, 4])\n",
    "        .fill_null(True)\n",
    "        .mean()\n",
    "        .alias(\"prop_sex_missing\")\n",
    "    ),\n",
    ")\n",
    "\n",
    "AGG_CORE_METRICS = (\n",
    "    pl.count().alias(\"decisions\"),\n",
    "    AGG_DEMOG_MISSING[0],\n",
    "    (pl.col(\"ethn_simple\").eq(1).mean().alias(\"prop_hl\")),\n",
    "    (\n",
    "        pl.col(\"ethn_simple\")\n",
    "        .filter(pl.col(\"ethn_simple\").le(2))\n",
    "        .eq(1)\n",
    "        .mean()\n",
    "        .alias(\"prop_hl_excl_miss\")\n",
    "    ),\n",
    "    (pl.col(\"action_taken\").eq(3).mean().alias(\"denied\")),\n",
    "    (\n",
    "        pl.col(\"action_taken\")\n",
    "        .filter(pl.col(\"applicant_race_1\").eq(5))\n",
    "        # Only explicitly non-H/L\n",
    "        .filter(pl.col(\"ethn_simple\").eq(2))\n",
    "        .eq(3)\n",
    "        .mean()\n",
    "        .alias(\"denied_white_nonhl_strict\")\n",
    "    ),\n",
    "    (\n",
    "        pl.col(\"action_taken\")\n",
    "        .filter(pl.col(\"applicant_race_1\").eq(5))\n",
    "        # Excluding explicitly H/L *and* missing ethnicity\n",
    "        .filter(pl.col(\"ethn_simple\").gt(1))\n",
    "        .eq(3)\n",
    "        .mean()\n",
    "        .alias(\"denied_white_nonhl_loose\")\n",
    "    ),\n",
    "    (\n",
    "        pl.col(\"action_taken\")\n",
    "        .filter(pl.col(\"ethn_simple\").eq(1))\n",
    "        .eq(3)\n",
    "        .mean()\n",
    "        .alias(\"denied_hl\")\n",
    "    ),\n",
    ")"
   ]
  },
  {
   "cell_type": "markdown",
   "id": "9a74849a-299f-42f7-b71b-b2bb56c3e057",
   "metadata": {},
   "source": [
    "### Loan type"
   ]
  },
  {
   "cell_type": "code",
   "execution_count": 36,
   "id": "63f2a6f9-a774-405a-a08a-310a321d8d9a",
   "metadata": {},
   "outputs": [
    {
     "name": "stdout",
     "output_type": "stream",
     "text": [
      "Missing demographics by loan type:\n"
     ]
    },
    {
     "data": {
      "text/html": [
       "<div><style>\n",
       ".dataframe > thead > tr,\n",
       ".dataframe > tbody > tr {\n",
       "  text-align: right;\n",
       "  white-space: pre-wrap;\n",
       "}\n",
       "</style>\n",
       "<small>shape: (2, 4)</small><table border=\"1\" class=\"dataframe\"><thead><tr><th>loan_type</th><th>prop_ethn_missing</th><th>prop_race_missing</th><th>prop_sex_missing</th></tr><tr><td>i64</td><td>f64</td><td>f64</td><td>f64</td></tr></thead><tbody><tr><td>1</td><td>0.13694</td><td>0.147871</td><td>0.059014</td></tr><tr><td>2</td><td>0.131871</td><td>0.159938</td><td>0.04959</td></tr></tbody></table></div>"
      ],
      "text/plain": [
       "shape: (2, 4)\n",
       "┌───────────┬───────────────────┬───────────────────┬──────────────────┐\n",
       "│ loan_type ┆ prop_ethn_missing ┆ prop_race_missing ┆ prop_sex_missing │\n",
       "│ ---       ┆ ---               ┆ ---               ┆ ---              │\n",
       "│ i64       ┆ f64               ┆ f64               ┆ f64              │\n",
       "╞═══════════╪═══════════════════╪═══════════════════╪══════════════════╡\n",
       "│ 1         ┆ 0.13694           ┆ 0.147871          ┆ 0.059014         │\n",
       "│ 2         ┆ 0.131871          ┆ 0.159938          ┆ 0.04959          │\n",
       "└───────────┴───────────────────┴───────────────────┴──────────────────┘"
      ]
     },
     "execution_count": 36,
     "metadata": {},
     "output_type": "execute_result"
    }
   ],
   "source": [
    "(\n",
    "    raw_with_race_ethn.group_by(\"loan_type\")\n",
    "    .agg(AGG_DEMOG_MISSING)\n",
    "    .pipe(log, \"Missing demographics by loan type\")\n",
    ")"
   ]
  },
  {
   "cell_type": "code",
   "execution_count": 37,
   "id": "f1d5b8cd-caec-4232-a96c-ed6326a2910c",
   "metadata": {},
   "outputs": [
    {
     "name": "stdout",
     "output_type": "stream",
     "text": [
      "Aggregate metrics by loan type:\n"
     ]
    },
    {
     "data": {
      "text/html": [
       "<div><style>\n",
       ".dataframe > thead > tr,\n",
       ".dataframe > tbody > tr {\n",
       "  text-align: right;\n",
       "  white-space: pre-wrap;\n",
       "}\n",
       "</style>\n",
       "<small>shape: (2, 9)</small><table border=\"1\" class=\"dataframe\"><thead><tr><th>loan_type</th><th>decisions</th><th>prop_ethn_missing</th><th>prop_hl</th><th>prop_hl_excl_miss</th><th>denied</th><th>denied_white_nonhl_strict</th><th>denied_white_nonhl_loose</th><th>denied_hl</th></tr><tr><td>i64</td><td>u32</td><td>f64</td><td>f64</td><td>f64</td><td>f64</td><td>f64</td><td>f64</td><td>f64</td></tr></thead><tbody><tr><td>1</td><td>396414</td><td>0.13694</td><td>0.10574</td><td>0.122518</td><td>0.079442</td><td>0.057896</td><td>0.058442</td><td>0.113158</td></tr><tr><td>2</td><td>123210</td><td>0.131871</td><td>0.270439</td><td>0.311519</td><td>0.135947</td><td>0.102471</td><td>0.104026</td><td>0.137227</td></tr></tbody></table></div>"
      ],
      "text/plain": [
       "shape: (2, 9)\n",
       "┌───────────┬───────────┬────────────┬──────────┬───┬──────────┬───────────┬───────────┬───────────┐\n",
       "│ loan_type ┆ decisions ┆ prop_ethn_ ┆ prop_hl  ┆ … ┆ denied   ┆ denied_wh ┆ denied_wh ┆ denied_hl │\n",
       "│ ---       ┆ ---       ┆ missing    ┆ ---      ┆   ┆ ---      ┆ ite_nonhl ┆ ite_nonhl ┆ ---       │\n",
       "│ i64       ┆ u32       ┆ ---        ┆ f64      ┆   ┆ f64      ┆ _strict   ┆ _loose    ┆ f64       │\n",
       "│           ┆           ┆ f64        ┆          ┆   ┆          ┆ ---       ┆ ---       ┆           │\n",
       "│           ┆           ┆            ┆          ┆   ┆          ┆ f64       ┆ f64       ┆           │\n",
       "╞═══════════╪═══════════╪════════════╪══════════╪═══╪══════════╪═══════════╪═══════════╪═══════════╡\n",
       "│ 1         ┆ 396414    ┆ 0.13694    ┆ 0.10574  ┆ … ┆ 0.079442 ┆ 0.057896  ┆ 0.058442  ┆ 0.113158  │\n",
       "│ 2         ┆ 123210    ┆ 0.131871   ┆ 0.270439 ┆ … ┆ 0.135947 ┆ 0.102471  ┆ 0.104026  ┆ 0.137227  │\n",
       "└───────────┴───────────┴────────────┴──────────┴───┴──────────┴───────────┴───────────┴───────────┘"
      ]
     },
     "execution_count": 37,
     "metadata": {},
     "output_type": "execute_result"
    }
   ],
   "source": [
    "loan_type_aggregates = (\n",
    "    raw_with_race_ethn.group_by(\"loan_type\")\n",
    "    .agg(AGG_CORE_METRICS)\n",
    "    .sort(\"loan_type\")\n",
    "    .pipe(log, \"Aggregate metrics by loan type\")\n",
    ")\n",
    "\n",
    "loan_type_aggregates"
   ]
  },
  {
   "cell_type": "code",
   "execution_count": 38,
   "id": "51349b5a-251b-468d-98b0-46f920617353",
   "metadata": {},
   "outputs": [
    {
     "name": "stdout",
     "output_type": "stream",
     "text": [
      "Aggregate metrics by loan type, excl. applicant-rejected:\n"
     ]
    },
    {
     "data": {
      "text/html": [
       "<div><style>\n",
       ".dataframe > thead > tr,\n",
       ".dataframe > tbody > tr {\n",
       "  text-align: right;\n",
       "  white-space: pre-wrap;\n",
       "}\n",
       "</style>\n",
       "<small>shape: (2, 9)</small><table border=\"1\" class=\"dataframe\"><thead><tr><th>loan_type</th><th>decisions</th><th>prop_ethn_missing</th><th>prop_hl</th><th>prop_hl_excl_miss</th><th>denied</th><th>denied_white_nonhl_strict</th><th>denied_white_nonhl_loose</th><th>denied_hl</th></tr><tr><td>i64</td><td>u32</td><td>f64</td><td>f64</td><td>f64</td><td>f64</td><td>f64</td><td>f64</td><td>f64</td></tr></thead><tbody><tr><td>1</td><td>385233</td><td>0.136648</td><td>0.105896</td><td>0.122657</td><td>0.081748</td><td>0.059473</td><td>0.060039</td><td>0.116272</td></tr><tr><td>2</td><td>119186</td><td>0.131491</td><td>0.270349</td><td>0.311279</td><td>0.140537</td><td>0.105457</td><td>0.107108</td><td>0.141908</td></tr></tbody></table></div>"
      ],
      "text/plain": [
       "shape: (2, 9)\n",
       "┌───────────┬───────────┬────────────┬──────────┬───┬──────────┬───────────┬───────────┬───────────┐\n",
       "│ loan_type ┆ decisions ┆ prop_ethn_ ┆ prop_hl  ┆ … ┆ denied   ┆ denied_wh ┆ denied_wh ┆ denied_hl │\n",
       "│ ---       ┆ ---       ┆ missing    ┆ ---      ┆   ┆ ---      ┆ ite_nonhl ┆ ite_nonhl ┆ ---       │\n",
       "│ i64       ┆ u32       ┆ ---        ┆ f64      ┆   ┆ f64      ┆ _strict   ┆ _loose    ┆ f64       │\n",
       "│           ┆           ┆ f64        ┆          ┆   ┆          ┆ ---       ┆ ---       ┆           │\n",
       "│           ┆           ┆            ┆          ┆   ┆          ┆ f64       ┆ f64       ┆           │\n",
       "╞═══════════╪═══════════╪════════════╪══════════╪═══╪══════════╪═══════════╪═══════════╪═══════════╡\n",
       "│ 1         ┆ 385233    ┆ 0.136648   ┆ 0.105896 ┆ … ┆ 0.081748 ┆ 0.059473  ┆ 0.060039  ┆ 0.116272  │\n",
       "│ 2         ┆ 119186    ┆ 0.131491   ┆ 0.270349 ┆ … ┆ 0.140537 ┆ 0.105457  ┆ 0.107108  ┆ 0.141908  │\n",
       "└───────────┴───────────┴────────────┴──────────┴───┴──────────┴───────────┴───────────┴───────────┘"
      ]
     },
     "execution_count": 38,
     "metadata": {},
     "output_type": "execute_result"
    }
   ],
   "source": [
    "(\n",
    "    raw_with_race_ethn.filter(~pl.col(\"action_taken\").eq(2))\n",
    "    .group_by(\"loan_type\")\n",
    "    .agg(AGG_CORE_METRICS)\n",
    "    .sort(\"loan_type\")\n",
    "    .pipe(log, \"Aggregate metrics by loan type, excl. applicant-rejected\")\n",
    ")"
   ]
  },
  {
   "cell_type": "code",
   "execution_count": 39,
   "id": "2664bb5a-24dd-40c5-b4de-a9b7bdf6b1a7",
   "metadata": {},
   "outputs": [
    {
     "name": "stdout",
     "output_type": "stream",
     "text": [
      "Aggregate metrics by loan type, excl. credit denials:\n"
     ]
    },
    {
     "data": {
      "text/html": [
       "<div><style>\n",
       ".dataframe > thead > tr,\n",
       ".dataframe > tbody > tr {\n",
       "  text-align: right;\n",
       "  white-space: pre-wrap;\n",
       "}\n",
       "</style>\n",
       "<small>shape: (2, 9)</small><table border=\"1\" class=\"dataframe\"><thead><tr><th>loan_type</th><th>decisions</th><th>prop_ethn_missing</th><th>prop_hl</th><th>prop_hl_excl_miss</th><th>denied</th><th>denied_white_nonhl_strict</th><th>denied_white_nonhl_loose</th><th>denied_hl</th></tr><tr><td>i64</td><td>u32</td><td>f64</td><td>f64</td><td>f64</td><td>f64</td><td>f64</td><td>f64</td><td>f64</td></tr></thead><tbody><tr><td>1</td><td>387402</td><td>0.13573</td><td>0.104877</td><td>0.121347</td><td>0.058028</td><td>0.042067</td><td>0.042422</td><td>0.085075</td></tr><tr><td>2</td><td>118254</td><td>0.130688</td><td>0.272185</td><td>0.313104</td><td>0.099734</td><td>0.070446</td><td>0.071746</td><td>0.106854</td></tr></tbody></table></div>"
      ],
      "text/plain": [
       "shape: (2, 9)\n",
       "┌───────────┬───────────┬────────────┬──────────┬───┬──────────┬───────────┬───────────┬───────────┐\n",
       "│ loan_type ┆ decisions ┆ prop_ethn_ ┆ prop_hl  ┆ … ┆ denied   ┆ denied_wh ┆ denied_wh ┆ denied_hl │\n",
       "│ ---       ┆ ---       ┆ missing    ┆ ---      ┆   ┆ ---      ┆ ite_nonhl ┆ ite_nonhl ┆ ---       │\n",
       "│ i64       ┆ u32       ┆ ---        ┆ f64      ┆   ┆ f64      ┆ _strict   ┆ _loose    ┆ f64       │\n",
       "│           ┆           ┆ f64        ┆          ┆   ┆          ┆ ---       ┆ ---       ┆           │\n",
       "│           ┆           ┆            ┆          ┆   ┆          ┆ f64       ┆ f64       ┆           │\n",
       "╞═══════════╪═══════════╪════════════╪══════════╪═══╪══════════╪═══════════╪═══════════╪═══════════╡\n",
       "│ 1         ┆ 387402    ┆ 0.13573    ┆ 0.104877 ┆ … ┆ 0.058028 ┆ 0.042067  ┆ 0.042422  ┆ 0.085075  │\n",
       "│ 2         ┆ 118254    ┆ 0.130688   ┆ 0.272185 ┆ … ┆ 0.099734 ┆ 0.070446  ┆ 0.071746  ┆ 0.106854  │\n",
       "└───────────┴───────────┴────────────┴──────────┴───┴──────────┴───────────┴───────────┴───────────┘"
      ]
     },
     "execution_count": 39,
     "metadata": {},
     "output_type": "execute_result"
    }
   ],
   "source": [
    "(\n",
    "    raw_with_race_ethn.filter(~EXPR_IS_CREDIT_DENIAL)\n",
    "    .group_by(\"loan_type\")\n",
    "    .agg(AGG_CORE_METRICS)\n",
    "    .pipe(log, \"Aggregate metrics by loan type, excl. credit denials\")\n",
    ")"
   ]
  },
  {
   "cell_type": "markdown",
   "id": "78870bf4-68ff-4f5f-be2a-022b9c5376d1",
   "metadata": {},
   "source": [
    "### Lender ethnicity-missing"
   ]
  },
  {
   "cell_type": "code",
   "execution_count": 40,
   "id": "a1a32dc1-4130-4aac-9aaa-63e8eca5f7da",
   "metadata": {},
   "outputs": [
    {
     "name": "stdout",
     "output_type": "stream",
     "text": [
      "Total number of lenders:\n"
     ]
    },
    {
     "data": {
      "text/html": [
       "<div><style>\n",
       ".dataframe > thead > tr,\n",
       ".dataframe > tbody > tr {\n",
       "  text-align: right;\n",
       "  white-space: pre-wrap;\n",
       "}\n",
       "</style>\n",
       "<small>shape: (1, 1)</small><table border=\"1\" class=\"dataframe\"><thead><tr><th>lei</th></tr><tr><td>u32</td></tr></thead><tbody><tr><td>815</td></tr></tbody></table></div>"
      ],
      "text/plain": [
       "shape: (1, 1)\n",
       "┌─────┐\n",
       "│ lei │\n",
       "│ --- │\n",
       "│ u32 │\n",
       "╞═════╡\n",
       "│ 815 │\n",
       "└─────┘"
      ]
     },
     "execution_count": 40,
     "metadata": {},
     "output_type": "execute_result"
    }
   ],
   "source": [
    "log(raw.select(pl.col(\"lei\").n_unique()), \"Total number of lenders\")"
   ]
  },
  {
   "cell_type": "code",
   "execution_count": 41,
   "id": "b98abffc-faf8-460d-a067-a1dad87fb2f2",
   "metadata": {},
   "outputs": [
    {
     "name": "stdout",
     "output_type": "stream",
     "text": [
      "Number of lenders, by loan type:\n"
     ]
    },
    {
     "data": {
      "text/html": [
       "<div><style>\n",
       ".dataframe > thead > tr,\n",
       ".dataframe > tbody > tr {\n",
       "  text-align: right;\n",
       "  white-space: pre-wrap;\n",
       "}\n",
       "</style>\n",
       "<small>shape: (2, 2)</small><table border=\"1\" class=\"dataframe\"><thead><tr><th>loan_type</th><th>lei</th></tr><tr><td>i64</td><td>u32</td></tr></thead><tbody><tr><td>1</td><td>800</td></tr><tr><td>2</td><td>409</td></tr></tbody></table></div>"
      ],
      "text/plain": [
       "shape: (2, 2)\n",
       "┌───────────┬─────┐\n",
       "│ loan_type ┆ lei │\n",
       "│ ---       ┆ --- │\n",
       "│ i64       ┆ u32 │\n",
       "╞═══════════╪═════╡\n",
       "│ 1         ┆ 800 │\n",
       "│ 2         ┆ 409 │\n",
       "└───────────┴─────┘"
      ]
     },
     "execution_count": 41,
     "metadata": {},
     "output_type": "execute_result"
    }
   ],
   "source": [
    "log(\n",
    "    raw.group_by(\"loan_type\").agg(pl.col(\"lei\").n_unique()),\n",
    "    \"Number of lenders, by loan type\",\n",
    ")"
   ]
  },
  {
   "cell_type": "code",
   "execution_count": 42,
   "id": "5a685097-1152-41f0-95f0-c704473e44c8",
   "metadata": {},
   "outputs": [
    {
     "data": {
      "text/html": [
       "<div><style>\n",
       ".dataframe > thead > tr,\n",
       ".dataframe > tbody > tr {\n",
       "  text-align: right;\n",
       "  white-space: pre-wrap;\n",
       "}\n",
       "</style>\n",
       "<small>shape: (1, 1)</small><table border=\"1\" class=\"dataframe\"><thead><tr><th>lei</th></tr><tr><td>f64</td></tr></thead><tbody><tr><td>1.0</td></tr></tbody></table></div>"
      ],
      "text/plain": [
       "shape: (1, 1)\n",
       "┌─────┐\n",
       "│ lei │\n",
       "│ --- │\n",
       "│ f64 │\n",
       "╞═════╡\n",
       "│ 1.0 │\n",
       "└─────┘"
      ]
     },
     "execution_count": 42,
     "metadata": {},
     "output_type": "execute_result"
    }
   ],
   "source": [
    "(raw.select(pl.col(\"lei\").is_in(lenders[\"lei\"]).mean()))"
   ]
  },
  {
   "cell_type": "code",
   "execution_count": 43,
   "id": "1215ad66-1848-499e-a4ff-bb88dffe1f87",
   "metadata": {},
   "outputs": [
    {
     "data": {
      "text/html": [
       "<div><style>\n",
       ".dataframe > thead > tr,\n",
       ".dataframe > tbody > tr {\n",
       "  text-align: right;\n",
       "  white-space: pre-wrap;\n",
       "}\n",
       "</style>\n",
       "<small>shape: (5, 10)</small><table border=\"1\" class=\"dataframe\"><thead><tr><th>lei</th><th>loan_type</th><th>decisions</th><th>prop_ethn_missing</th><th>prop_hl</th><th>prop_hl_excl_miss</th><th>denied</th><th>denied_white_nonhl_strict</th><th>denied_white_nonhl_loose</th><th>denied_hl</th></tr><tr><td>str</td><td>i64</td><td>u32</td><td>f64</td><td>f64</td><td>f64</td><td>f64</td><td>f64</td><td>f64</td><td>f64</td></tr></thead><tbody><tr><td>&quot;KB1H1DSPRFMYMC…</td><td>1</td><td>23316</td><td>0.096183</td><td>0.104162</td><td>0.115247</td><td>0.120389</td><td>0.086568</td><td>0.087594</td><td>0.202484</td></tr><tr><td>&quot;549300FGXN1K3H…</td><td>1</td><td>18768</td><td>0.245098</td><td>0.083866</td><td>0.111095</td><td>0.137042</td><td>0.113783</td><td>0.114249</td><td>0.175985</td></tr><tr><td>&quot;B4TYDEB6GKMZO0…</td><td>1</td><td>14762</td><td>0.140515</td><td>0.078862</td><td>0.091755</td><td>0.101477</td><td>0.080099</td><td>0.080352</td><td>0.169244</td></tr><tr><td>&quot;549300HW662MN1…</td><td>1</td><td>14729</td><td>0.114332</td><td>0.102315</td><td>0.115523</td><td>0.075294</td><td>0.060519</td><td>0.061422</td><td>0.102853</td></tr><tr><td>&quot;7H6GLXDRUGQFU5…</td><td>1</td><td>13476</td><td>0.072351</td><td>0.123108</td><td>0.132709</td><td>0.084817</td><td>0.063221</td><td>0.063377</td><td>0.13261</td></tr></tbody></table></div>"
      ],
      "text/plain": [
       "shape: (5, 10)\n",
       "┌───────────┬───────────┬───────────┬───────────┬───┬──────────┬───────────┬───────────┬───────────┐\n",
       "│ lei       ┆ loan_type ┆ decisions ┆ prop_ethn ┆ … ┆ denied   ┆ denied_wh ┆ denied_wh ┆ denied_hl │\n",
       "│ ---       ┆ ---       ┆ ---       ┆ _missing  ┆   ┆ ---      ┆ ite_nonhl ┆ ite_nonhl ┆ ---       │\n",
       "│ str       ┆ i64       ┆ u32       ┆ ---       ┆   ┆ f64      ┆ _strict   ┆ _loose    ┆ f64       │\n",
       "│           ┆           ┆           ┆ f64       ┆   ┆          ┆ ---       ┆ ---       ┆           │\n",
       "│           ┆           ┆           ┆           ┆   ┆          ┆ f64       ┆ f64       ┆           │\n",
       "╞═══════════╪═══════════╪═══════════╪═══════════╪═══╪══════════╪═══════════╪═══════════╪═══════════╡\n",
       "│ KB1H1DSPR ┆ 1         ┆ 23316     ┆ 0.096183  ┆ … ┆ 0.120389 ┆ 0.086568  ┆ 0.087594  ┆ 0.202484  │\n",
       "│ FMYMCUFXT ┆           ┆           ┆           ┆   ┆          ┆           ┆           ┆           │\n",
       "│ 09        ┆           ┆           ┆           ┆   ┆          ┆           ┆           ┆           │\n",
       "│ 549300FGX ┆ 1         ┆ 18768     ┆ 0.245098  ┆ … ┆ 0.137042 ┆ 0.113783  ┆ 0.114249  ┆ 0.175985  │\n",
       "│ N1K3HLB1R ┆           ┆           ┆           ┆   ┆          ┆           ┆           ┆           │\n",
       "│ 50        ┆           ┆           ┆           ┆   ┆          ┆           ┆           ┆           │\n",
       "│ B4TYDEB6G ┆ 1         ┆ 14762     ┆ 0.140515  ┆ … ┆ 0.101477 ┆ 0.080099  ┆ 0.080352  ┆ 0.169244  │\n",
       "│ KMZO031MB ┆           ┆           ┆           ┆   ┆          ┆           ┆           ┆           │\n",
       "│ 27        ┆           ┆           ┆           ┆   ┆          ┆           ┆           ┆           │\n",
       "│ 549300HW6 ┆ 1         ┆ 14729     ┆ 0.114332  ┆ … ┆ 0.075294 ┆ 0.060519  ┆ 0.061422  ┆ 0.102853  │\n",
       "│ 62MN1WU85 ┆           ┆           ┆           ┆   ┆          ┆           ┆           ┆           │\n",
       "│ 50        ┆           ┆           ┆           ┆   ┆          ┆           ┆           ┆           │\n",
       "│ 7H6GLXDRU ┆ 1         ┆ 13476     ┆ 0.072351  ┆ … ┆ 0.084817 ┆ 0.063221  ┆ 0.063377  ┆ 0.13261   │\n",
       "│ GQFU57RNE ┆           ┆           ┆           ┆   ┆          ┆           ┆           ┆           │\n",
       "│ 97        ┆           ┆           ┆           ┆   ┆          ┆           ┆           ┆           │\n",
       "└───────────┴───────────┴───────────┴───────────┴───┴──────────┴───────────┴───────────┴───────────┘"
      ]
     },
     "execution_count": 43,
     "metadata": {},
     "output_type": "execute_result"
    }
   ],
   "source": [
    "lender_aggregates = (\n",
    "    raw_with_race_ethn.group_by(\"lei\", \"loan_type\")\n",
    "    .agg(AGG_CORE_METRICS)\n",
    "    .sort(\"decisions\", \"lei\", \"loan_type\", descending=(True, False, False))\n",
    "    .pipe(shift_columns_left, (\"lei\",))\n",
    ")\n",
    "\n",
    "lender_aggregates.head()"
   ]
  },
  {
   "cell_type": "code",
   "execution_count": 44,
   "id": "a12e0254-6d4a-42db-b778-e8b740b833b7",
   "metadata": {},
   "outputs": [
    {
     "name": "stdout",
     "output_type": "stream",
     "text": [
      "Number of lenders w/ 1,000+ decisions, by loan type:\n"
     ]
    },
    {
     "data": {
      "text/html": [
       "<div><style>\n",
       ".dataframe > thead > tr,\n",
       ".dataframe > tbody > tr {\n",
       "  text-align: right;\n",
       "  white-space: pre-wrap;\n",
       "}\n",
       "</style>\n",
       "<small>shape: (2, 2)</small><table border=\"1\" class=\"dataframe\"><thead><tr><th>loan_type</th><th>count</th></tr><tr><td>i64</td><td>u32</td></tr></thead><tbody><tr><td>1</td><td>83</td></tr><tr><td>2</td><td>41</td></tr></tbody></table></div>"
      ],
      "text/plain": [
       "shape: (2, 2)\n",
       "┌───────────┬───────┐\n",
       "│ loan_type ┆ count │\n",
       "│ ---       ┆ ---   │\n",
       "│ i64       ┆ u32   │\n",
       "╞═══════════╪═══════╡\n",
       "│ 1         ┆ 83    │\n",
       "│ 2         ┆ 41    │\n",
       "└───────────┴───────┘"
      ]
     },
     "execution_count": 44,
     "metadata": {},
     "output_type": "execute_result"
    }
   ],
   "source": [
    "(\n",
    "    lender_aggregates.filter(pl.col(\"decisions\") >= 1e3)\n",
    "    .group_by(\"loan_type\")\n",
    "    .count()\n",
    "    .sort(\"loan_type\")\n",
    "    .pipe(log, \"Number of lenders w/ 1,000+ decisions, by loan type\")\n",
    ")"
   ]
  },
  {
   "cell_type": "code",
   "execution_count": 45,
   "id": "2b5a4d11-0f66-46aa-b936-c24e8e09272e",
   "metadata": {},
   "outputs": [
    {
     "name": "stdout",
     "output_type": "stream",
     "text": [
      "Number of lenders w/ 10,000+ decisions, by loan type:\n"
     ]
    },
    {
     "data": {
      "text/html": [
       "<div><style>\n",
       ".dataframe > thead > tr,\n",
       ".dataframe > tbody > tr {\n",
       "  text-align: right;\n",
       "  white-space: pre-wrap;\n",
       "}\n",
       "</style>\n",
       "<small>shape: (1, 2)</small><table border=\"1\" class=\"dataframe\"><thead><tr><th>loan_type</th><th>count</th></tr><tr><td>i64</td><td>u32</td></tr></thead><tbody><tr><td>1</td><td>8</td></tr></tbody></table></div>"
      ],
      "text/plain": [
       "shape: (1, 2)\n",
       "┌───────────┬───────┐\n",
       "│ loan_type ┆ count │\n",
       "│ ---       ┆ ---   │\n",
       "│ i64       ┆ u32   │\n",
       "╞═══════════╪═══════╡\n",
       "│ 1         ┆ 8     │\n",
       "└───────────┴───────┘"
      ]
     },
     "execution_count": 45,
     "metadata": {},
     "output_type": "execute_result"
    }
   ],
   "source": [
    "(\n",
    "    lender_aggregates.filter(pl.col(\"decisions\") >= 1e4)\n",
    "    .group_by(\"loan_type\")\n",
    "    .count()\n",
    "    .pipe(log, \"Number of lenders w/ 10,000+ decisions, by loan type\")\n",
    ")"
   ]
  },
  {
   "cell_type": "code",
   "execution_count": 46,
   "id": "8f921ea1-626f-486c-b327-c360ea93dc4a",
   "metadata": {},
   "outputs": [
    {
     "name": "stdout",
     "output_type": "stream",
     "text": [
      "Median lender ethnicity missing (1,000+ decisions):\n"
     ]
    },
    {
     "data": {
      "text/html": [
       "<div><style>\n",
       ".dataframe > thead > tr,\n",
       ".dataframe > tbody > tr {\n",
       "  text-align: right;\n",
       "  white-space: pre-wrap;\n",
       "}\n",
       "</style>\n",
       "<small>shape: (2, 2)</small><table border=\"1\" class=\"dataframe\"><thead><tr><th>loan_type</th><th>prop_ethn_missing</th></tr><tr><td>i64</td><td>f64</td></tr></thead><tbody><tr><td>1</td><td>0.107</td></tr><tr><td>2</td><td>0.116</td></tr></tbody></table></div>"
      ],
      "text/plain": [
       "shape: (2, 2)\n",
       "┌───────────┬───────────────────┐\n",
       "│ loan_type ┆ prop_ethn_missing │\n",
       "│ ---       ┆ ---               │\n",
       "│ i64       ┆ f64               │\n",
       "╞═══════════╪═══════════════════╡\n",
       "│ 1         ┆ 0.107             │\n",
       "│ 2         ┆ 0.116             │\n",
       "└───────────┴───────────────────┘"
      ]
     },
     "execution_count": 46,
     "metadata": {},
     "output_type": "execute_result"
    }
   ],
   "source": [
    "(\n",
    "    lender_aggregates.filter(pl.col(\"decisions\") >= 1e3)\n",
    "    .group_by(\"loan_type\")\n",
    "    .agg(pl.col(\"prop_ethn_missing\").median().round(3))\n",
    "    .sort(\"loan_type\")\n",
    "    .pipe(log, \"Median lender ethnicity missing (1,000+ decisions)\")\n",
    ")"
   ]
  },
  {
   "cell_type": "code",
   "execution_count": 47,
   "id": "bd2bdeb1-0c8f-47d5-8e51-48018d907c0b",
   "metadata": {},
   "outputs": [
    {
     "name": "stdout",
     "output_type": "stream",
     "text": [
      "Aggregate metrics by loan type, excl. high-ethn-missing lenders (20%):\n"
     ]
    },
    {
     "data": {
      "text/html": [
       "<div><style>\n",
       ".dataframe > thead > tr,\n",
       ".dataframe > tbody > tr {\n",
       "  text-align: right;\n",
       "  white-space: pre-wrap;\n",
       "}\n",
       "</style>\n",
       "<small>shape: (2, 9)</small><table border=\"1\" class=\"dataframe\"><thead><tr><th>loan_type</th><th>decisions</th><th>prop_ethn_missing</th><th>prop_hl</th><th>prop_hl_excl_miss</th><th>denied</th><th>denied_white_nonhl_strict</th><th>denied_white_nonhl_loose</th><th>denied_hl</th></tr><tr><td>i64</td><td>u32</td><td>f64</td><td>f64</td><td>f64</td><td>f64</td><td>f64</td><td>f64</td><td>f64</td></tr></thead><tbody><tr><td>1</td><td>307518</td><td>0.102543</td><td>0.111094</td><td>0.123788</td><td>0.072958</td><td>0.054127</td><td>0.054507</td><td>0.107899</td></tr><tr><td>2</td><td>102059</td><td>0.095574</td><td>0.290121</td><td>0.320779</td><td>0.130052</td><td>0.095598</td><td>0.09718</td><td>0.133453</td></tr></tbody></table></div>"
      ],
      "text/plain": [
       "shape: (2, 9)\n",
       "┌───────────┬───────────┬────────────┬──────────┬───┬──────────┬───────────┬───────────┬───────────┐\n",
       "│ loan_type ┆ decisions ┆ prop_ethn_ ┆ prop_hl  ┆ … ┆ denied   ┆ denied_wh ┆ denied_wh ┆ denied_hl │\n",
       "│ ---       ┆ ---       ┆ missing    ┆ ---      ┆   ┆ ---      ┆ ite_nonhl ┆ ite_nonhl ┆ ---       │\n",
       "│ i64       ┆ u32       ┆ ---        ┆ f64      ┆   ┆ f64      ┆ _strict   ┆ _loose    ┆ f64       │\n",
       "│           ┆           ┆ f64        ┆          ┆   ┆          ┆ ---       ┆ ---       ┆           │\n",
       "│           ┆           ┆            ┆          ┆   ┆          ┆ f64       ┆ f64       ┆           │\n",
       "╞═══════════╪═══════════╪════════════╪══════════╪═══╪══════════╪═══════════╪═══════════╪═══════════╡\n",
       "│ 1         ┆ 307518    ┆ 0.102543   ┆ 0.111094 ┆ … ┆ 0.072958 ┆ 0.054127  ┆ 0.054507  ┆ 0.107899  │\n",
       "│ 2         ┆ 102059    ┆ 0.095574   ┆ 0.290121 ┆ … ┆ 0.130052 ┆ 0.095598  ┆ 0.09718   ┆ 0.133453  │\n",
       "└───────────┴───────────┴────────────┴──────────┴───┴──────────┴───────────┴───────────┴───────────┘"
      ]
     },
     "execution_count": 47,
     "metadata": {},
     "output_type": "execute_result"
    }
   ],
   "source": [
    "(\n",
    "    raw_with_race_ethn.join(\n",
    "        lender_aggregates.select(\"lei\", \"loan_type\", \"prop_ethn_missing\"),\n",
    "        on=[\"lei\", \"loan_type\"],\n",
    "    )\n",
    "    .filter(pl.col(\"prop_ethn_missing\").lt(0.2))\n",
    "    .group_by(\"loan_type\")\n",
    "    .agg(AGG_CORE_METRICS)\n",
    "    .sort(\"loan_type\")\n",
    "    .pipe(log, \"Aggregate metrics by loan type, excl. high-ethn-missing lenders (20%)\")\n",
    ")"
   ]
  },
  {
   "cell_type": "code",
   "execution_count": 48,
   "id": "025eaa73-2c75-4a36-9c6a-3274c79db7cd",
   "metadata": {},
   "outputs": [
    {
     "name": "stdout",
     "output_type": "stream",
     "text": [
      "Aggregate metrics by loan type, excl. medium-ethn-missing lenders (10%):\n"
     ]
    },
    {
     "data": {
      "text/html": [
       "<div><style>\n",
       ".dataframe > thead > tr,\n",
       ".dataframe > tbody > tr {\n",
       "  text-align: right;\n",
       "  white-space: pre-wrap;\n",
       "}\n",
       "</style>\n",
       "<small>shape: (2, 9)</small><table border=\"1\" class=\"dataframe\"><thead><tr><th>loan_type</th><th>decisions</th><th>prop_ethn_missing</th><th>prop_hl</th><th>prop_hl_excl_miss</th><th>denied</th><th>denied_white_nonhl_strict</th><th>denied_white_nonhl_loose</th><th>denied_hl</th></tr><tr><td>i64</td><td>u32</td><td>f64</td><td>f64</td><td>f64</td><td>f64</td><td>f64</td><td>f64</td><td>f64</td></tr></thead><tbody><tr><td>1</td><td>163702</td><td>0.06585</td><td>0.126056</td><td>0.134941</td><td>0.062779</td><td>0.044386</td><td>0.04472</td><td>0.097987</td></tr><tr><td>2</td><td>56529</td><td>0.056403</td><td>0.309065</td><td>0.32754</td><td>0.11196</td><td>0.080833</td><td>0.08174</td><td>0.117293</td></tr></tbody></table></div>"
      ],
      "text/plain": [
       "shape: (2, 9)\n",
       "┌───────────┬───────────┬────────────┬──────────┬───┬──────────┬───────────┬───────────┬───────────┐\n",
       "│ loan_type ┆ decisions ┆ prop_ethn_ ┆ prop_hl  ┆ … ┆ denied   ┆ denied_wh ┆ denied_wh ┆ denied_hl │\n",
       "│ ---       ┆ ---       ┆ missing    ┆ ---      ┆   ┆ ---      ┆ ite_nonhl ┆ ite_nonhl ┆ ---       │\n",
       "│ i64       ┆ u32       ┆ ---        ┆ f64      ┆   ┆ f64      ┆ _strict   ┆ _loose    ┆ f64       │\n",
       "│           ┆           ┆ f64        ┆          ┆   ┆          ┆ ---       ┆ ---       ┆           │\n",
       "│           ┆           ┆            ┆          ┆   ┆          ┆ f64       ┆ f64       ┆           │\n",
       "╞═══════════╪═══════════╪════════════╪══════════╪═══╪══════════╪═══════════╪═══════════╪═══════════╡\n",
       "│ 1         ┆ 163702    ┆ 0.06585    ┆ 0.126056 ┆ … ┆ 0.062779 ┆ 0.044386  ┆ 0.04472   ┆ 0.097987  │\n",
       "│ 2         ┆ 56529     ┆ 0.056403   ┆ 0.309065 ┆ … ┆ 0.11196  ┆ 0.080833  ┆ 0.08174   ┆ 0.117293  │\n",
       "└───────────┴───────────┴────────────┴──────────┴───┴──────────┴───────────┴───────────┴───────────┘"
      ]
     },
     "execution_count": 48,
     "metadata": {},
     "output_type": "execute_result"
    }
   ],
   "source": [
    "(\n",
    "    raw_with_race_ethn.join(\n",
    "        lender_aggregates.select(\"lei\", \"loan_type\", \"prop_ethn_missing\"),\n",
    "        on=[\"lei\", \"loan_type\"],\n",
    "    )\n",
    "    .filter(pl.col(\"prop_ethn_missing\").lt(0.1))\n",
    "    .group_by(\"loan_type\")\n",
    "    .agg(AGG_CORE_METRICS)\n",
    "    .sort(\"loan_type\")\n",
    "    .pipe(\n",
    "        log, \"Aggregate metrics by loan type, excl. medium-ethn-missing lenders (10%)\"\n",
    "    )\n",
    ")"
   ]
  },
  {
   "cell_type": "markdown",
   "id": "a93a3ba6-2003-4bfd-990d-0a48d3a0f6ea",
   "metadata": {},
   "source": [
    "### Counties"
   ]
  },
  {
   "cell_type": "code",
   "execution_count": 49,
   "id": "63083fab-3687-4cef-8556-0e27129df966",
   "metadata": {},
   "outputs": [
    {
     "data": {
      "text/html": [
       "<div><style>\n",
       ".dataframe > thead > tr,\n",
       ".dataframe > tbody > tr {\n",
       "  text-align: right;\n",
       "  white-space: pre-wrap;\n",
       "}\n",
       "</style>\n",
       "<small>shape: (5, 11)</small><table border=\"1\" class=\"dataframe\"><thead><tr><th>county_code</th><th>county_name</th><th>loan_type</th><th>decisions</th><th>prop_ethn_missing</th><th>prop_hl</th><th>prop_hl_excl_miss</th><th>denied</th><th>denied_white_nonhl_strict</th><th>denied_white_nonhl_loose</th><th>denied_hl</th></tr><tr><td>str</td><td>str</td><td>i64</td><td>u32</td><td>f64</td><td>f64</td><td>f64</td><td>f64</td><td>f64</td><td>f64</td><td>f64</td></tr></thead><tbody><tr><td>&quot;34003&quot;</td><td>&quot;Bergen County&quot;</td><td>1</td><td>43841</td><td>0.138691</td><td>0.134013</td><td>0.155593</td><td>0.083096</td><td>0.062488</td><td>0.063229</td><td>0.104206</td></tr><tr><td>&quot;34023&quot;</td><td>&quot;Middlesex Coun…</td><td>1</td><td>37321</td><td>0.130484</td><td>0.124692</td><td>0.143403</td><td>0.090726</td><td>0.064808</td><td>0.065518</td><td>0.110323</td></tr><tr><td>&quot;34025&quot;</td><td>&quot;Monmouth Count…</td><td>1</td><td>35816</td><td>0.132335</td><td>0.056113</td><td>0.064671</td><td>0.071644</td><td>0.061416</td><td>0.061837</td><td>0.096565</td></tr><tr><td>&quot;34029&quot;</td><td>&quot;Ocean County&quot;</td><td>1</td><td>34458</td><td>0.110953</td><td>0.054068</td><td>0.060816</td><td>0.071101</td><td>0.064132</td><td>0.064594</td><td>0.09667</td></tr><tr><td>&quot;34027&quot;</td><td>&quot;Morris County&quot;</td><td>1</td><td>28957</td><td>0.137518</td><td>0.092093</td><td>0.106777</td><td>0.063024</td><td>0.049773</td><td>0.050338</td><td>0.091148</td></tr></tbody></table></div>"
      ],
      "text/plain": [
       "shape: (5, 11)\n",
       "┌───────────┬───────────┬───────────┬───────────┬───┬──────────┬───────────┬───────────┬───────────┐\n",
       "│ county_co ┆ county_na ┆ loan_type ┆ decisions ┆ … ┆ denied   ┆ denied_wh ┆ denied_wh ┆ denied_hl │\n",
       "│ de        ┆ me        ┆ ---       ┆ ---       ┆   ┆ ---      ┆ ite_nonhl ┆ ite_nonhl ┆ ---       │\n",
       "│ ---       ┆ ---       ┆ i64       ┆ u32       ┆   ┆ f64      ┆ _strict   ┆ _loose    ┆ f64       │\n",
       "│ str       ┆ str       ┆           ┆           ┆   ┆          ┆ ---       ┆ ---       ┆           │\n",
       "│           ┆           ┆           ┆           ┆   ┆          ┆ f64       ┆ f64       ┆           │\n",
       "╞═══════════╪═══════════╪═══════════╪═══════════╪═══╪══════════╪═══════════╪═══════════╪═══════════╡\n",
       "│ 34003     ┆ Bergen    ┆ 1         ┆ 43841     ┆ … ┆ 0.083096 ┆ 0.062488  ┆ 0.063229  ┆ 0.104206  │\n",
       "│           ┆ County    ┆           ┆           ┆   ┆          ┆           ┆           ┆           │\n",
       "│ 34023     ┆ Middlesex ┆ 1         ┆ 37321     ┆ … ┆ 0.090726 ┆ 0.064808  ┆ 0.065518  ┆ 0.110323  │\n",
       "│           ┆ County    ┆           ┆           ┆   ┆          ┆           ┆           ┆           │\n",
       "│ 34025     ┆ Monmouth  ┆ 1         ┆ 35816     ┆ … ┆ 0.071644 ┆ 0.061416  ┆ 0.061837  ┆ 0.096565  │\n",
       "│           ┆ County    ┆           ┆           ┆   ┆          ┆           ┆           ┆           │\n",
       "│ 34029     ┆ Ocean     ┆ 1         ┆ 34458     ┆ … ┆ 0.071101 ┆ 0.064132  ┆ 0.064594  ┆ 0.09667   │\n",
       "│           ┆ County    ┆           ┆           ┆   ┆          ┆           ┆           ┆           │\n",
       "│ 34027     ┆ Morris    ┆ 1         ┆ 28957     ┆ … ┆ 0.063024 ┆ 0.049773  ┆ 0.050338  ┆ 0.091148  │\n",
       "│           ┆ County    ┆           ┆           ┆   ┆          ┆           ┆           ┆           │\n",
       "└───────────┴───────────┴───────────┴───────────┴───┴──────────┴───────────┴───────────┴───────────┘"
      ]
     },
     "execution_count": 49,
     "metadata": {},
     "output_type": "execute_result"
    }
   ],
   "source": [
    "county_aggregates = (\n",
    "    raw_with_race_ethn.filter(~pl.col(\"county_code\").is_null())\n",
    "    .group_by(\"county_code\", \"loan_type\")\n",
    "    .agg(AGG_CORE_METRICS)\n",
    "    .join(county_meta, on=\"county_code\", how=\"left\")\n",
    "    .sort(\"decisions\", descending=True)\n",
    "    .filter(pl.col(\"decisions\") >= 5)\n",
    "    .pipe(shift_columns_left, (\"county_code\", \"county_name\"))\n",
    ")\n",
    "\n",
    "county_aggregates.head()"
   ]
  },
  {
   "cell_type": "code",
   "execution_count": 50,
   "id": "ff5b4b1b-cc10-403d-a7ae-9b1482662a24",
   "metadata": {},
   "outputs": [
    {
     "name": "stdout",
     "output_type": "stream",
     "text": [
      "County fips prefixes:\n"
     ]
    },
    {
     "data": {
      "text/html": [
       "<div><style>\n",
       ".dataframe > thead > tr,\n",
       ".dataframe > tbody > tr {\n",
       "  text-align: right;\n",
       "  white-space: pre-wrap;\n",
       "}\n",
       "</style>\n",
       "<small>shape: (3, 3)</small><table border=\"1\" class=\"dataframe\"><thead><tr><th>state_code</th><th>county_fips_prefix</th><th>count</th></tr><tr><td>str</td><td>str</td><td>u32</td></tr></thead><tbody><tr><td>&quot;NJ&quot;</td><td>null</td><td>537</td></tr><tr><td>&quot;NJ&quot;</td><td>&quot;22&quot;</td><td>2</td></tr><tr><td>&quot;NJ&quot;</td><td>&quot;34&quot;</td><td>519085</td></tr></tbody></table></div>"
      ],
      "text/plain": [
       "shape: (3, 3)\n",
       "┌────────────┬────────────────────┬────────┐\n",
       "│ state_code ┆ county_fips_prefix ┆ count  │\n",
       "│ ---        ┆ ---                ┆ ---    │\n",
       "│ str        ┆ str                ┆ u32    │\n",
       "╞════════════╪════════════════════╪════════╡\n",
       "│ NJ         ┆ null               ┆ 537    │\n",
       "│ NJ         ┆ 22                 ┆ 2      │\n",
       "│ NJ         ┆ 34                 ┆ 519085 │\n",
       "└────────────┴────────────────────┴────────┘"
      ]
     },
     "execution_count": 50,
     "metadata": {},
     "output_type": "execute_result"
    }
   ],
   "source": [
    "# Note: A couple of applications listed as in NJ state\n",
    "# have county codes outside of NJ\n",
    "(\n",
    "    raw_with_race_ethn.group_by(\n",
    "        \"state_code\", pl.col(\"county_code\").str.slice(0, 2).alias(\"county_fips_prefix\")\n",
    "    )\n",
    "    .count()\n",
    "    .sort(\"county_fips_prefix\")\n",
    "    .pipe(log, \"County fips prefixes\")\n",
    ")"
   ]
  },
  {
   "cell_type": "code",
   "execution_count": 51,
   "id": "3df9154d-844e-4c7c-ba17-900f98a5d5e0",
   "metadata": {},
   "outputs": [
    {
     "name": "stdout",
     "output_type": "stream",
     "text": [
      "County aggregates, conventional:\n"
     ]
    },
    {
     "data": {
      "text/html": [
       "<div><style>\n",
       ".dataframe > thead > tr,\n",
       ".dataframe > tbody > tr {\n",
       "  text-align: right;\n",
       "  white-space: pre-wrap;\n",
       "}\n",
       "</style>\n",
       "<small>shape: (21, 9)</small><table border=\"1\" class=\"dataframe\"><thead><tr><th>county_name</th><th>decisions</th><th>prop_ethn_missing</th><th>prop_hl</th><th>prop_hl_excl_miss</th><th>denied</th><th>denied_white_nonhl_strict</th><th>denied_white_nonhl_loose</th><th>denied_hl</th></tr><tr><td>str</td><td>u32</td><td>f64</td><td>f64</td><td>f64</td><td>f64</td><td>f64</td><td>f64</td><td>f64</td></tr></thead><tbody><tr><td>&quot;Bergen County&quot;</td><td>43841</td><td>0.138691</td><td>0.134013</td><td>0.155593</td><td>0.083096</td><td>0.062488</td><td>0.063229</td><td>0.104206</td></tr><tr><td>&quot;Middlesex Coun…</td><td>37321</td><td>0.130484</td><td>0.124692</td><td>0.143403</td><td>0.090726</td><td>0.064808</td><td>0.065518</td><td>0.110323</td></tr><tr><td>&quot;Monmouth Count…</td><td>35816</td><td>0.132335</td><td>0.056113</td><td>0.064671</td><td>0.071644</td><td>0.061416</td><td>0.061837</td><td>0.096565</td></tr><tr><td>&quot;Ocean County&quot;</td><td>34458</td><td>0.110953</td><td>0.054068</td><td>0.060816</td><td>0.071101</td><td>0.064132</td><td>0.064594</td><td>0.09667</td></tr><tr><td>&quot;Morris County&quot;</td><td>28957</td><td>0.137518</td><td>0.092093</td><td>0.106777</td><td>0.063024</td><td>0.049773</td><td>0.050338</td><td>0.091148</td></tr><tr><td>&quot;Essex County&quot;</td><td>26163</td><td>0.166998</td><td>0.12741</td><td>0.152953</td><td>0.096205</td><td>0.05417</td><td>0.054226</td><td>0.141999</td></tr><tr><td>&quot;Hudson County&quot;</td><td>23198</td><td>0.175606</td><td>0.116539</td><td>0.141363</td><td>0.102724</td><td>0.080125</td><td>0.080898</td><td>0.130226</td></tr><tr><td>&quot;Burlington Cou…</td><td>22118</td><td>0.127505</td><td>0.062735</td><td>0.071903</td><td>0.063749</td><td>0.043703</td><td>0.044276</td><td>0.121125</td></tr><tr><td>&quot;Union County&quot;</td><td>20990</td><td>0.151969</td><td>0.190056</td><td>0.224115</td><td>0.085183</td><td>0.050571</td><td>0.052102</td><td>0.116378</td></tr><tr><td>&quot;Somerset Count…</td><td>19929</td><td>0.137671</td><td>0.094894</td><td>0.110044</td><td>0.068393</td><td>0.04829</td><td>0.048546</td><td>0.1</td></tr><tr><td>&quot;Camden County&quot;</td><td>19459</td><td>0.135969</td><td>0.099728</td><td>0.115421</td><td>0.069068</td><td>0.044052</td><td>0.044183</td><td>0.101031</td></tr><tr><td>&quot;Mercer County&quot;</td><td>15248</td><td>0.125377</td><td>0.115465</td><td>0.132017</td><td>0.082175</td><td>0.049595</td><td>0.049421</td><td>0.132462</td></tr><tr><td>&quot;Passaic County…</td><td>15113</td><td>0.131304</td><td>0.216678</td><td>0.249429</td><td>0.088335</td><td>0.061827</td><td>0.063055</td><td>0.113928</td></tr><tr><td>&quot;Gloucester Cou…</td><td>13259</td><td>0.109921</td><td>0.059826</td><td>0.067215</td><td>0.059205</td><td>0.040946</td><td>0.041263</td><td>0.119798</td></tr><tr><td>&quot;Atlantic Count…</td><td>9902</td><td>0.131784</td><td>0.103082</td><td>0.118729</td><td>0.091295</td><td>0.069299</td><td>0.069732</td><td>0.127451</td></tr><tr><td>&quot;Sussex County&quot;</td><td>8781</td><td>0.155275</td><td>0.106744</td><td>0.126365</td><td>0.084501</td><td>0.070659</td><td>0.071429</td><td>0.116329</td></tr><tr><td>&quot;Hunterdon Coun…</td><td>8477</td><td>0.132271</td><td>0.065369</td><td>0.075333</td><td>0.065943</td><td>0.056604</td><td>0.05727</td><td>0.086643</td></tr><tr><td>&quot;Warren County&quot;</td><td>5318</td><td>0.127399</td><td>0.108017</td><td>0.123787</td><td>0.081046</td><td>0.059487</td><td>0.060681</td><td>0.118467</td></tr><tr><td>&quot;Cape May Count…</td><td>3557</td><td>0.114173</td><td>0.018841</td><td>0.02127</td><td>0.068878</td><td>0.063837</td><td>0.063456</td><td>0.089552</td></tr><tr><td>&quot;Cumberland Cou…</td><td>2330</td><td>0.198798</td><td>0.19751</td><td>0.246517</td><td>0.106867</td><td>0.070207</td><td>0.071804</td><td>0.115217</td></tr><tr><td>&quot;Salem County&quot;</td><td>1826</td><td>0.111781</td><td>0.066849</td><td>0.075262</td><td>0.095838</td><td>0.073733</td><td>0.073429</td><td>0.131148</td></tr></tbody></table></div>"
      ],
      "text/plain": [
       "shape: (21, 9)\n",
       "┌────────────┬───────────┬───────────┬──────────┬───┬──────────┬───────────┬───────────┬───────────┐\n",
       "│ county_nam ┆ decisions ┆ prop_ethn ┆ prop_hl  ┆ … ┆ denied   ┆ denied_wh ┆ denied_wh ┆ denied_hl │\n",
       "│ e          ┆ ---       ┆ _missing  ┆ ---      ┆   ┆ ---      ┆ ite_nonhl ┆ ite_nonhl ┆ ---       │\n",
       "│ ---        ┆ u32       ┆ ---       ┆ f64      ┆   ┆ f64      ┆ _strict   ┆ _loose    ┆ f64       │\n",
       "│ str        ┆           ┆ f64       ┆          ┆   ┆          ┆ ---       ┆ ---       ┆           │\n",
       "│            ┆           ┆           ┆          ┆   ┆          ┆ f64       ┆ f64       ┆           │\n",
       "╞════════════╪═══════════╪═══════════╪══════════╪═══╪══════════╪═══════════╪═══════════╪═══════════╡\n",
       "│ Bergen     ┆ 43841     ┆ 0.138691  ┆ 0.134013 ┆ … ┆ 0.083096 ┆ 0.062488  ┆ 0.063229  ┆ 0.104206  │\n",
       "│ County     ┆           ┆           ┆          ┆   ┆          ┆           ┆           ┆           │\n",
       "│ Middlesex  ┆ 37321     ┆ 0.130484  ┆ 0.124692 ┆ … ┆ 0.090726 ┆ 0.064808  ┆ 0.065518  ┆ 0.110323  │\n",
       "│ County     ┆           ┆           ┆          ┆   ┆          ┆           ┆           ┆           │\n",
       "│ Monmouth   ┆ 35816     ┆ 0.132335  ┆ 0.056113 ┆ … ┆ 0.071644 ┆ 0.061416  ┆ 0.061837  ┆ 0.096565  │\n",
       "│ County     ┆           ┆           ┆          ┆   ┆          ┆           ┆           ┆           │\n",
       "│ Ocean      ┆ 34458     ┆ 0.110953  ┆ 0.054068 ┆ … ┆ 0.071101 ┆ 0.064132  ┆ 0.064594  ┆ 0.09667   │\n",
       "│ County     ┆           ┆           ┆          ┆   ┆          ┆           ┆           ┆           │\n",
       "│ …          ┆ …         ┆ …         ┆ …        ┆ … ┆ …        ┆ …         ┆ …         ┆ …         │\n",
       "│ Warren     ┆ 5318      ┆ 0.127399  ┆ 0.108017 ┆ … ┆ 0.081046 ┆ 0.059487  ┆ 0.060681  ┆ 0.118467  │\n",
       "│ County     ┆           ┆           ┆          ┆   ┆          ┆           ┆           ┆           │\n",
       "│ Cape May   ┆ 3557      ┆ 0.114173  ┆ 0.018841 ┆ … ┆ 0.068878 ┆ 0.063837  ┆ 0.063456  ┆ 0.089552  │\n",
       "│ County     ┆           ┆           ┆          ┆   ┆          ┆           ┆           ┆           │\n",
       "│ Cumberland ┆ 2330      ┆ 0.198798  ┆ 0.19751  ┆ … ┆ 0.106867 ┆ 0.070207  ┆ 0.071804  ┆ 0.115217  │\n",
       "│ County     ┆           ┆           ┆          ┆   ┆          ┆           ┆           ┆           │\n",
       "│ Salem      ┆ 1826      ┆ 0.111781  ┆ 0.066849 ┆ … ┆ 0.095838 ┆ 0.073733  ┆ 0.073429  ┆ 0.131148  │\n",
       "│ County     ┆           ┆           ┆          ┆   ┆          ┆           ┆           ┆           │\n",
       "└────────────┴───────────┴───────────┴──────────┴───┴──────────┴───────────┴───────────┴───────────┘"
      ]
     },
     "execution_count": 51,
     "metadata": {},
     "output_type": "execute_result"
    }
   ],
   "source": [
    "(\n",
    "    county_aggregates.filter(pl.col(\"loan_type\") == 1)\n",
    "    .select(pl.exclude(\"county_code\", \"loan_type\"))\n",
    "    .pipe(log, \"County aggregates, conventional\")\n",
    ")"
   ]
  },
  {
   "cell_type": "code",
   "execution_count": 52,
   "id": "07e244c2-3f67-4ed2-908a-a8b47470eb8f",
   "metadata": {},
   "outputs": [
    {
     "name": "stdout",
     "output_type": "stream",
     "text": [
      "County aggregates, conventional, narrow and sorted by diff:\n"
     ]
    },
    {
     "data": {
      "text/html": [
       "<div><style>\n",
       ".dataframe > thead > tr,\n",
       ".dataframe > tbody > tr {\n",
       "  text-align: right;\n",
       "  white-space: pre-wrap;\n",
       "}\n",
       "</style>\n",
       "<small>shape: (21, 6)</small><table border=\"1\" class=\"dataframe\"><thead><tr><th>county_name</th><th>decisions</th><th>denied_hl</th><th>denied_white_nonhl_loose</th><th>ratio</th><th>diff</th></tr><tr><td>str</td><td>u32</td><td>f64</td><td>f64</td><td>f64</td><td>f64</td></tr></thead><tbody><tr><td>&quot;Essex County&quot;</td><td>26163</td><td>0.141999</td><td>0.054226</td><td>2.618663</td><td>0.087773</td></tr><tr><td>&quot;Mercer County&quot;</td><td>15248</td><td>0.132462</td><td>0.049421</td><td>2.680266</td><td>0.083041</td></tr><tr><td>&quot;Gloucester Cou…</td><td>13259</td><td>0.119798</td><td>0.041263</td><td>2.903274</td><td>0.078535</td></tr><tr><td>&quot;Burlington Cou…</td><td>22118</td><td>0.121125</td><td>0.044276</td><td>2.73568</td><td>0.076849</td></tr><tr><td>&quot;Union County&quot;</td><td>20990</td><td>0.116378</td><td>0.052102</td><td>2.233682</td><td>0.064277</td></tr><tr><td>&quot;Warren County&quot;</td><td>5318</td><td>0.118467</td><td>0.060681</td><td>1.952292</td><td>0.057786</td></tr><tr><td>&quot;Atlantic Count…</td><td>9902</td><td>0.127451</td><td>0.069732</td><td>1.827737</td><td>0.057719</td></tr><tr><td>&quot;Salem County&quot;</td><td>1826</td><td>0.131148</td><td>0.073429</td><td>1.78604</td><td>0.057718</td></tr><tr><td>&quot;Camden County&quot;</td><td>19459</td><td>0.101031</td><td>0.044183</td><td>2.286667</td><td>0.056848</td></tr><tr><td>&quot;Somerset Count…</td><td>19929</td><td>0.1</td><td>0.048546</td><td>2.059906</td><td>0.051454</td></tr><tr><td>&quot;Passaic County…</td><td>15113</td><td>0.113928</td><td>0.063055</td><td>1.806804</td><td>0.050873</td></tr><tr><td>&quot;Hudson County&quot;</td><td>23198</td><td>0.130226</td><td>0.080898</td><td>1.609749</td><td>0.049328</td></tr><tr><td>&quot;Sussex County&quot;</td><td>8781</td><td>0.116329</td><td>0.071429</td><td>1.628602</td><td>0.0449</td></tr><tr><td>&quot;Middlesex Coun…</td><td>37321</td><td>0.110323</td><td>0.065518</td><td>1.683849</td><td>0.044804</td></tr><tr><td>&quot;Cumberland Cou…</td><td>2330</td><td>0.115217</td><td>0.071804</td><td>1.604613</td><td>0.043414</td></tr><tr><td>&quot;Bergen County&quot;</td><td>43841</td><td>0.104206</td><td>0.063229</td><td>1.648055</td><td>0.040976</td></tr><tr><td>&quot;Morris County&quot;</td><td>28957</td><td>0.091148</td><td>0.050338</td><td>1.810729</td><td>0.04081</td></tr><tr><td>&quot;Monmouth Count…</td><td>35816</td><td>0.096565</td><td>0.061837</td><td>1.56161</td><td>0.034728</td></tr><tr><td>&quot;Ocean County&quot;</td><td>34458</td><td>0.09667</td><td>0.064594</td><td>1.496593</td><td>0.032077</td></tr><tr><td>&quot;Hunterdon Coun…</td><td>8477</td><td>0.086643</td><td>0.05727</td><td>1.512875</td><td>0.029372</td></tr><tr><td>&quot;Cape May Count…</td><td>3557</td><td>0.089552</td><td>0.063456</td><td>1.411251</td><td>0.026096</td></tr></tbody></table></div>"
      ],
      "text/plain": [
       "shape: (21, 6)\n",
       "┌───────────────────┬───────────┬───────────┬──────────────────────────┬──────────┬──────────┐\n",
       "│ county_name       ┆ decisions ┆ denied_hl ┆ denied_white_nonhl_loose ┆ ratio    ┆ diff     │\n",
       "│ ---               ┆ ---       ┆ ---       ┆ ---                      ┆ ---      ┆ ---      │\n",
       "│ str               ┆ u32       ┆ f64       ┆ f64                      ┆ f64      ┆ f64      │\n",
       "╞═══════════════════╪═══════════╪═══════════╪══════════════════════════╪══════════╪══════════╡\n",
       "│ Essex County      ┆ 26163     ┆ 0.141999  ┆ 0.054226                 ┆ 2.618663 ┆ 0.087773 │\n",
       "│ Mercer County     ┆ 15248     ┆ 0.132462  ┆ 0.049421                 ┆ 2.680266 ┆ 0.083041 │\n",
       "│ Gloucester County ┆ 13259     ┆ 0.119798  ┆ 0.041263                 ┆ 2.903274 ┆ 0.078535 │\n",
       "│ Burlington County ┆ 22118     ┆ 0.121125  ┆ 0.044276                 ┆ 2.73568  ┆ 0.076849 │\n",
       "│ …                 ┆ …         ┆ …         ┆ …                        ┆ …        ┆ …        │\n",
       "│ Monmouth County   ┆ 35816     ┆ 0.096565  ┆ 0.061837                 ┆ 1.56161  ┆ 0.034728 │\n",
       "│ Ocean County      ┆ 34458     ┆ 0.09667   ┆ 0.064594                 ┆ 1.496593 ┆ 0.032077 │\n",
       "│ Hunterdon County  ┆ 8477      ┆ 0.086643  ┆ 0.05727                  ┆ 1.512875 ┆ 0.029372 │\n",
       "│ Cape May County   ┆ 3557      ┆ 0.089552  ┆ 0.063456                 ┆ 1.411251 ┆ 0.026096 │\n",
       "└───────────────────┴───────────┴───────────┴──────────────────────────┴──────────┴──────────┘"
      ]
     },
     "execution_count": 52,
     "metadata": {},
     "output_type": "execute_result"
    }
   ],
   "source": [
    "(\n",
    "    county_aggregates.filter(pl.col(\"loan_type\") == 1)\n",
    "    .select(pl.exclude(\"county_code\", \"loan_type\"))\n",
    "    .with_columns(\n",
    "        (pl.col(\"denied_hl\") / pl.col(\"denied_white_nonhl_loose\")).alias(\"ratio\"),\n",
    "        (pl.col(\"denied_hl\") - pl.col(\"denied_white_nonhl_loose\")).alias(\"diff\"),\n",
    "    )\n",
    "    .sort(\"diff\", descending=True)\n",
    "    .select(\n",
    "        \"county_name\",\n",
    "        \"decisions\",\n",
    "        \"denied_hl\",\n",
    "        \"denied_white_nonhl_loose\",\n",
    "        \"ratio\",\n",
    "        \"diff\",\n",
    "    )\n",
    "    .pipe(log, \"County aggregates, conventional, narrow and sorted by diff\")\n",
    ")"
   ]
  },
  {
   "cell_type": "code",
   "execution_count": 53,
   "id": "3b215595-5ece-43d3-8a95-2c8aab508b85",
   "metadata": {},
   "outputs": [
    {
     "name": "stdout",
     "output_type": "stream",
     "text": [
      "County aggregates, FHA:\n"
     ]
    },
    {
     "data": {
      "text/html": [
       "<div><style>\n",
       ".dataframe > thead > tr,\n",
       ".dataframe > tbody > tr {\n",
       "  text-align: right;\n",
       "  white-space: pre-wrap;\n",
       "}\n",
       "</style>\n",
       "<small>shape: (21, 9)</small><table border=\"1\" class=\"dataframe\"><thead><tr><th>county_name</th><th>decisions</th><th>prop_ethn_missing</th><th>prop_hl</th><th>prop_hl_excl_miss</th><th>denied</th><th>denied_white_nonhl_strict</th><th>denied_white_nonhl_loose</th><th>denied_hl</th></tr><tr><td>str</td><td>u32</td><td>f64</td><td>f64</td><td>f64</td><td>f64</td><td>f64</td><td>f64</td><td>f64</td></tr></thead><tbody><tr><td>&quot;Camden County&quot;</td><td>12597</td><td>0.116615</td><td>0.204811</td><td>0.231848</td><td>0.113678</td><td>0.075031</td><td>0.076264</td><td>0.108527</td></tr><tr><td>&quot;Essex County&quot;</td><td>11835</td><td>0.152949</td><td>0.265591</td><td>0.313547</td><td>0.192564</td><td>0.131174</td><td>0.134703</td><td>0.171492</td></tr><tr><td>&quot;Ocean County&quot;</td><td>9936</td><td>0.111547</td><td>0.116782</td><td>0.131445</td><td>0.115137</td><td>0.104343</td><td>0.105256</td><td>0.131034</td></tr><tr><td>&quot;Union County&quot;</td><td>9517</td><td>0.144583</td><td>0.42629</td><td>0.498342</td><td>0.150257</td><td>0.129859</td><td>0.135385</td><td>0.140251</td></tr><tr><td>&quot;Burlington Cou…</td><td>9412</td><td>0.12763</td><td>0.122848</td><td>0.140821</td><td>0.110816</td><td>0.081648</td><td>0.082449</td><td>0.125433</td></tr><tr><td>&quot;Middlesex Coun…</td><td>8674</td><td>0.141573</td><td>0.377911</td><td>0.440236</td><td>0.14065</td><td>0.112979</td><td>0.115133</td><td>0.128737</td></tr><tr><td>&quot;Passaic County…</td><td>7938</td><td>0.120575</td><td>0.550964</td><td>0.626504</td><td>0.141219</td><td>0.117264</td><td>0.118644</td><td>0.137663</td></tr><tr><td>&quot;Gloucester Cou…</td><td>7856</td><td>0.107193</td><td>0.108211</td><td>0.121203</td><td>0.092795</td><td>0.066652</td><td>0.068059</td><td>0.118824</td></tr><tr><td>&quot;Bergen County&quot;</td><td>6720</td><td>0.135119</td><td>0.473958</td><td>0.548004</td><td>0.145387</td><td>0.130056</td><td>0.130511</td><td>0.134066</td></tr><tr><td>&quot;Monmouth Count…</td><td>5170</td><td>0.136997</td><td>0.135449</td><td>0.156951</td><td>0.132689</td><td>0.120651</td><td>0.121876</td><td>0.14</td></tr><tr><td>&quot;Atlantic Count…</td><td>5070</td><td>0.121105</td><td>0.219527</td><td>0.249776</td><td>0.12288</td><td>0.092447</td><td>0.093563</td><td>0.143756</td></tr><tr><td>&quot;Cumberland Cou…</td><td>4063</td><td>0.204137</td><td>0.298449</td><td>0.375</td><td>0.097711</td><td>0.079554</td><td>0.080351</td><td>0.094059</td></tr><tr><td>&quot;Mercer County&quot;</td><td>3929</td><td>0.106134</td><td>0.298295</td><td>0.333713</td><td>0.153474</td><td>0.098578</td><td>0.100733</td><td>0.149317</td></tr><tr><td>&quot;Sussex County&quot;</td><td>3829</td><td>0.164316</td><td>0.212644</td><td>0.254455</td><td>0.142074</td><td>0.127238</td><td>0.129949</td><td>0.126536</td></tr><tr><td>&quot;Morris County&quot;</td><td>3810</td><td>0.134646</td><td>0.300787</td><td>0.347589</td><td>0.119685</td><td>0.106024</td><td>0.106113</td><td>0.119546</td></tr><tr><td>&quot;Hudson County&quot;</td><td>3511</td><td>0.132156</td><td>0.412133</td><td>0.474893</td><td>0.176873</td><td>0.150188</td><td>0.151479</td><td>0.16586</td></tr><tr><td>&quot;Somerset Count…</td><td>2950</td><td>0.145085</td><td>0.336271</td><td>0.393339</td><td>0.141356</td><td>0.129888</td><td>0.1313</td><td>0.134073</td></tr><tr><td>&quot;Warren County&quot;</td><td>2311</td><td>0.126785</td><td>0.186067</td><td>0.213082</td><td>0.158806</td><td>0.133613</td><td>0.133117</td><td>0.15814</td></tr><tr><td>&quot;Salem County&quot;</td><td>1720</td><td>0.106977</td><td>0.144767</td><td>0.162109</td><td>0.131395</td><td>0.101464</td><td>0.10041</td><td>0.140562</td></tr><tr><td>&quot;Hunterdon Coun…</td><td>1128</td><td>0.139184</td><td>0.117908</td><td>0.136972</td><td>0.14273</td><td>0.130014</td><td>0.130258</td><td>0.195489</td></tr><tr><td>&quot;Cape May Count…</td><td>1048</td><td>0.076409</td><td>0.088825</td><td>0.096174</td><td>0.149809</td><td>0.127764</td><td>0.130751</td><td>0.225806</td></tr></tbody></table></div>"
      ],
      "text/plain": [
       "shape: (21, 9)\n",
       "┌────────────┬───────────┬───────────┬──────────┬───┬──────────┬───────────┬───────────┬───────────┐\n",
       "│ county_nam ┆ decisions ┆ prop_ethn ┆ prop_hl  ┆ … ┆ denied   ┆ denied_wh ┆ denied_wh ┆ denied_hl │\n",
       "│ e          ┆ ---       ┆ _missing  ┆ ---      ┆   ┆ ---      ┆ ite_nonhl ┆ ite_nonhl ┆ ---       │\n",
       "│ ---        ┆ u32       ┆ ---       ┆ f64      ┆   ┆ f64      ┆ _strict   ┆ _loose    ┆ f64       │\n",
       "│ str        ┆           ┆ f64       ┆          ┆   ┆          ┆ ---       ┆ ---       ┆           │\n",
       "│            ┆           ┆           ┆          ┆   ┆          ┆ f64       ┆ f64       ┆           │\n",
       "╞════════════╪═══════════╪═══════════╪══════════╪═══╪══════════╪═══════════╪═══════════╪═══════════╡\n",
       "│ Camden     ┆ 12597     ┆ 0.116615  ┆ 0.204811 ┆ … ┆ 0.113678 ┆ 0.075031  ┆ 0.076264  ┆ 0.108527  │\n",
       "│ County     ┆           ┆           ┆          ┆   ┆          ┆           ┆           ┆           │\n",
       "│ Essex      ┆ 11835     ┆ 0.152949  ┆ 0.265591 ┆ … ┆ 0.192564 ┆ 0.131174  ┆ 0.134703  ┆ 0.171492  │\n",
       "│ County     ┆           ┆           ┆          ┆   ┆          ┆           ┆           ┆           │\n",
       "│ Ocean      ┆ 9936      ┆ 0.111547  ┆ 0.116782 ┆ … ┆ 0.115137 ┆ 0.104343  ┆ 0.105256  ┆ 0.131034  │\n",
       "│ County     ┆           ┆           ┆          ┆   ┆          ┆           ┆           ┆           │\n",
       "│ Union      ┆ 9517      ┆ 0.144583  ┆ 0.42629  ┆ … ┆ 0.150257 ┆ 0.129859  ┆ 0.135385  ┆ 0.140251  │\n",
       "│ County     ┆           ┆           ┆          ┆   ┆          ┆           ┆           ┆           │\n",
       "│ …          ┆ …         ┆ …         ┆ …        ┆ … ┆ …        ┆ …         ┆ …         ┆ …         │\n",
       "│ Warren     ┆ 2311      ┆ 0.126785  ┆ 0.186067 ┆ … ┆ 0.158806 ┆ 0.133613  ┆ 0.133117  ┆ 0.15814   │\n",
       "│ County     ┆           ┆           ┆          ┆   ┆          ┆           ┆           ┆           │\n",
       "│ Salem      ┆ 1720      ┆ 0.106977  ┆ 0.144767 ┆ … ┆ 0.131395 ┆ 0.101464  ┆ 0.10041   ┆ 0.140562  │\n",
       "│ County     ┆           ┆           ┆          ┆   ┆          ┆           ┆           ┆           │\n",
       "│ Hunterdon  ┆ 1128      ┆ 0.139184  ┆ 0.117908 ┆ … ┆ 0.14273  ┆ 0.130014  ┆ 0.130258  ┆ 0.195489  │\n",
       "│ County     ┆           ┆           ┆          ┆   ┆          ┆           ┆           ┆           │\n",
       "│ Cape May   ┆ 1048      ┆ 0.076409  ┆ 0.088825 ┆ … ┆ 0.149809 ┆ 0.127764  ┆ 0.130751  ┆ 0.225806  │\n",
       "│ County     ┆           ┆           ┆          ┆   ┆          ┆           ┆           ┆           │\n",
       "└────────────┴───────────┴───────────┴──────────┴───┴──────────┴───────────┴───────────┴───────────┘"
      ]
     },
     "execution_count": 53,
     "metadata": {},
     "output_type": "execute_result"
    }
   ],
   "source": [
    "(\n",
    "    county_aggregates.filter(pl.col(\"loan_type\") == 2)\n",
    "    .select(pl.exclude(\"county_code\", \"loan_type\"))\n",
    "    .pipe(log, \"County aggregates, FHA\")\n",
    ")"
   ]
  },
  {
   "cell_type": "markdown",
   "id": "de41c694-34ac-4e16-a0bf-8f397b4c6fc7",
   "metadata": {},
   "source": [
    "## Reasons for denial"
   ]
  },
  {
   "cell_type": "code",
   "execution_count": 54,
   "id": "5493cae9-2795-4251-bcf0-1ea6e3d3a5a7",
   "metadata": {},
   "outputs": [],
   "source": [
    "# Translations from\n",
    "# https://ffiec.cfpb.gov/documentation/publications/loan-level-datasets/lar-data-fields#denial_reason-1\n",
    "DENIAL_REASONS_DICT = {\n",
    "    1: \"Debt-to-income ratio\",\n",
    "    2: \"Employment history\",\n",
    "    3: \"Credit history\",\n",
    "    4: \"Collateral\",\n",
    "    5: \"Insufficient cash (downpayment, closing costs)\",\n",
    "    6: \"Unverifiable information\",\n",
    "    7: \"Credit application incomplete\",\n",
    "    8: \"Mortgage insurance denied\",\n",
    "    9: \"Other\",\n",
    "    10: \"Not applicable\",\n",
    "    1111: \"Reason withheld due to partial exemption\",\n",
    "}"
   ]
  },
  {
   "cell_type": "code",
   "execution_count": 55,
   "id": "b7087230-6b01-4f86-95f2-0b4381e8b056",
   "metadata": {},
   "outputs": [
    {
     "name": "stdout",
     "output_type": "stream",
     "text": [
      "Primary denial reason by loan type:\n"
     ]
    },
    {
     "data": {
      "text/html": [
       "<div><style>\n",
       ".dataframe > thead > tr,\n",
       ".dataframe > tbody > tr {\n",
       "  text-align: right;\n",
       "  white-space: pre-wrap;\n",
       "}\n",
       "</style>\n",
       "<small>shape: (10, 3)</small><table border=\"1\" class=\"dataframe\"><thead><tr><th>denial_reason_1</th><th>1</th><th>2</th></tr><tr><td>str</td><td>f64</td><td>f64</td></tr></thead><tbody><tr><td>&quot;Debt-to-income…</td><td>0.31735</td><td>0.349433</td></tr><tr><td>&quot;Collateral&quot;</td><td>0.190207</td><td>0.146269</td></tr><tr><td>&quot;Credit applica…</td><td>0.140385</td><td>0.091403</td></tr><tr><td>&quot;Credit history…</td><td>0.104979</td><td>0.155463</td></tr><tr><td>&quot;Other&quot;</td><td>0.104217</td><td>0.099045</td></tr><tr><td>&quot;Insufficient c…</td><td>0.060111</td><td>0.058507</td></tr><tr><td>&quot;Unverifiable i…</td><td>0.056109</td><td>0.050746</td></tr><tr><td>&quot;Employment his…</td><td>0.025213</td><td>0.046806</td></tr><tr><td>&quot;Mortgage insur…</td><td>0.001238</td><td>0.002149</td></tr><tr><td>&quot;Reason withhel…</td><td>0.000191</td><td>0.000179</td></tr></tbody></table></div>"
      ],
      "text/plain": [
       "shape: (10, 3)\n",
       "┌───────────────────────────────────┬──────────┬──────────┐\n",
       "│ denial_reason_1                   ┆ 1        ┆ 2        │\n",
       "│ ---                               ┆ ---      ┆ ---      │\n",
       "│ str                               ┆ f64      ┆ f64      │\n",
       "╞═══════════════════════════════════╪══════════╪══════════╡\n",
       "│ Debt-to-income ratio              ┆ 0.31735  ┆ 0.349433 │\n",
       "│ Collateral                        ┆ 0.190207 ┆ 0.146269 │\n",
       "│ Credit application incomplete     ┆ 0.140385 ┆ 0.091403 │\n",
       "│ Credit history                    ┆ 0.104979 ┆ 0.155463 │\n",
       "│ …                                 ┆ …        ┆ …        │\n",
       "│ Unverifiable information          ┆ 0.056109 ┆ 0.050746 │\n",
       "│ Employment history                ┆ 0.025213 ┆ 0.046806 │\n",
       "│ Mortgage insurance denied         ┆ 0.001238 ┆ 0.002149 │\n",
       "│ Reason withheld due to partial e… ┆ 0.000191 ┆ 0.000179 │\n",
       "└───────────────────────────────────┴──────────┴──────────┘"
      ]
     },
     "execution_count": 55,
     "metadata": {},
     "output_type": "execute_result"
    }
   ],
   "source": [
    "(\n",
    "    raw_with_race_ethn.filter(pl.col(\"action_taken\").eq(3))\n",
    "    .group_by(pl.col(\"denial_reason_1\").replace(DENIAL_REASONS_DICT), \"loan_type\")\n",
    "    .count()\n",
    "    .with_columns(\n",
    "        (pl.col(\"count\") / pl.col(\"count\").sum().over(\"loan_type\")).alias(\"prop\")\n",
    "    )\n",
    "    .pivot(\"prop\", \"denial_reason_1\", \"loan_type\", aggregate_function=None)\n",
    "    .sort(\"1\", descending=True)\n",
    "    .select(\"denial_reason_1\", \"1\", \"2\")\n",
    "    .pipe(log, \"Primary denial reason by loan type\")\n",
    ")"
   ]
  },
  {
   "cell_type": "code",
   "execution_count": 56,
   "id": "6bcdb7fb-c091-4530-ac90-82e06d97e077",
   "metadata": {},
   "outputs": [
    {
     "name": "stdout",
     "output_type": "stream",
     "text": [
      "Primary denial reason, white vs. hl, conventional:\n"
     ]
    },
    {
     "data": {
      "text/html": [
       "<div><style>\n",
       ".dataframe > thead > tr,\n",
       ".dataframe > tbody > tr {\n",
       "  text-align: right;\n",
       "  white-space: pre-wrap;\n",
       "}\n",
       "</style>\n",
       "<small>shape: (10, 3)</small><table border=\"1\" class=\"dataframe\"><thead><tr><th>denial_reason_1</th><th>white</th><th>hl</th></tr><tr><td>str</td><td>f64</td><td>f64</td></tr></thead><tbody><tr><td>&quot;Debt-to-income…</td><td>0.311193</td><td>0.344442</td></tr><tr><td>&quot;Collateral&quot;</td><td>0.197485</td><td>0.172537</td></tr><tr><td>&quot;Credit applica…</td><td>0.14202</td><td>0.099346</td></tr><tr><td>&quot;Credit history…</td><td>0.1053</td><td>0.119384</td></tr><tr><td>&quot;Other&quot;</td><td>0.103448</td><td>0.120439</td></tr><tr><td>&quot;Insufficient c…</td><td>0.06048</td><td>0.05695</td></tr><tr><td>&quot;Unverifiable i…</td><td>0.05238</td><td>0.05927</td></tr><tr><td>&quot;Employment his…</td><td>0.026306</td><td>0.025522</td></tr><tr><td>&quot;Mortgage insur…</td><td>0.001157</td><td>0.001898</td></tr><tr><td>&quot;Reason withhel…</td><td>0.000231</td><td>0.000211</td></tr></tbody></table></div>"
      ],
      "text/plain": [
       "shape: (10, 3)\n",
       "┌───────────────────────────────────┬──────────┬──────────┐\n",
       "│ denial_reason_1                   ┆ white    ┆ hl       │\n",
       "│ ---                               ┆ ---      ┆ ---      │\n",
       "│ str                               ┆ f64      ┆ f64      │\n",
       "╞═══════════════════════════════════╪══════════╪══════════╡\n",
       "│ Debt-to-income ratio              ┆ 0.311193 ┆ 0.344442 │\n",
       "│ Collateral                        ┆ 0.197485 ┆ 0.172537 │\n",
       "│ Credit application incomplete     ┆ 0.14202  ┆ 0.099346 │\n",
       "│ Credit history                    ┆ 0.1053   ┆ 0.119384 │\n",
       "│ …                                 ┆ …        ┆ …        │\n",
       "│ Unverifiable information          ┆ 0.05238  ┆ 0.05927  │\n",
       "│ Employment history                ┆ 0.026306 ┆ 0.025522 │\n",
       "│ Mortgage insurance denied         ┆ 0.001157 ┆ 0.001898 │\n",
       "│ Reason withheld due to partial e… ┆ 0.000231 ┆ 0.000211 │\n",
       "└───────────────────────────────────┴──────────┴──────────┘"
      ]
     },
     "execution_count": 56,
     "metadata": {},
     "output_type": "execute_result"
    }
   ],
   "source": [
    "(\n",
    "    raw_with_race_ethn.filter(pl.col(\"action_taken\").eq(3))\n",
    "    .filter(pl.col(\"loan_type\").eq(1))\n",
    "    .group_by(pl.col(\"denial_reason_1\").replace(DENIAL_REASONS_DICT), \"race_ethn\")\n",
    "    .count()\n",
    "    .with_columns(\n",
    "        (pl.col(\"count\") / pl.col(\"count\").sum().over(\"race_ethn\")).alias(\"prop\")\n",
    "    )\n",
    "    .pivot(\"prop\", \"denial_reason_1\", \"race_ethn\", aggregate_function=None)\n",
    "    .sort(\"white\", descending=True)\n",
    "    .select(\"denial_reason_1\", \"white\", \"hl\")\n",
    "    .pipe(log, \"Primary denial reason, white vs. hl, conventional\")\n",
    ")"
   ]
  },
  {
   "cell_type": "markdown",
   "id": "5db7c534-091c-4913-85f9-fcfe3c555c84",
   "metadata": {},
   "source": [
    "# Rate spreads"
   ]
  },
  {
   "cell_type": "markdown",
   "id": "62019899-6dce-429c-9c58-aaebf2f14733",
   "metadata": {},
   "source": [
    "Rate spreads are only present for originated and approved-but-borrower-rejected applications (i.e., not for denials):"
   ]
  },
  {
   "cell_type": "code",
   "execution_count": 57,
   "id": "7d84104a-54d4-47f5-abff-4655084f5a89",
   "metadata": {},
   "outputs": [
    {
     "name": "stdout",
     "output_type": "stream",
     "text": [
      "Actions with non-null `rate_spread`:\n"
     ]
    },
    {
     "data": {
      "text/html": [
       "<div><style>\n",
       ".dataframe > thead > tr,\n",
       ".dataframe > tbody > tr {\n",
       "  text-align: right;\n",
       "  white-space: pre-wrap;\n",
       "}\n",
       "</style>\n",
       "<small>shape: (2, 2)</small><table border=\"1\" class=\"dataframe\"><thead><tr><th>action_taken</th><th>count</th></tr><tr><td>i64</td><td>u32</td></tr></thead><tbody><tr><td>1</td><td>452617</td></tr><tr><td>2</td><td>13276</td></tr></tbody></table></div>"
      ],
      "text/plain": [
       "shape: (2, 2)\n",
       "┌──────────────┬────────┐\n",
       "│ action_taken ┆ count  │\n",
       "│ ---          ┆ ---    │\n",
       "│ i64          ┆ u32    │\n",
       "╞══════════════╪════════╡\n",
       "│ 1            ┆ 452617 │\n",
       "│ 2            ┆ 13276  │\n",
       "└──────────────┴────────┘"
      ]
     },
     "execution_count": 57,
     "metadata": {},
     "output_type": "execute_result"
    }
   ],
   "source": [
    "(\n",
    "    raw.filter(~pl.col(\"rate_spread\").is_null())\n",
    "    .group_by(\"action_taken\")\n",
    "    .agg(pl.count())\n",
    "    .sort(\"action_taken\")\n",
    "    .pipe(log, \"Actions with non-null `rate_spread`\")\n",
    ")"
   ]
  },
  {
   "cell_type": "code",
   "execution_count": 58,
   "id": "dce97ed9-7bc3-4aa8-8134-778fa8999687",
   "metadata": {},
   "outputs": [
    {
     "name": "stdout",
     "output_type": "stream",
     "text": [
      "Rate spread mean/median, by `action_taken`:\n"
     ]
    },
    {
     "data": {
      "text/html": [
       "<div><style>\n",
       ".dataframe > thead > tr,\n",
       ".dataframe > tbody > tr {\n",
       "  text-align: right;\n",
       "  white-space: pre-wrap;\n",
       "}\n",
       "</style>\n",
       "<small>shape: (2, 3)</small><table border=\"1\" class=\"dataframe\"><thead><tr><th>action_taken</th><th>mean</th><th>median</th></tr><tr><td>i64</td><td>f64</td><td>f64</td></tr></thead><tbody><tr><td>1</td><td>0.217</td><td>0.161</td></tr><tr><td>2</td><td>0.272</td><td>0.167</td></tr></tbody></table></div>"
      ],
      "text/plain": [
       "shape: (2, 3)\n",
       "┌──────────────┬───────┬────────┐\n",
       "│ action_taken ┆ mean  ┆ median │\n",
       "│ ---          ┆ ---   ┆ ---    │\n",
       "│ i64          ┆ f64   ┆ f64    │\n",
       "╞══════════════╪═══════╪════════╡\n",
       "│ 1            ┆ 0.217 ┆ 0.161  │\n",
       "│ 2            ┆ 0.272 ┆ 0.167  │\n",
       "└──────────────┴───────┴────────┘"
      ]
     },
     "execution_count": 58,
     "metadata": {},
     "output_type": "execute_result"
    }
   ],
   "source": [
    "(\n",
    "    raw.filter(pl.col(\"loan_type\").eq(1))\n",
    "    .filter(~pl.col(\"rate_spread\").is_null())\n",
    "    .group_by(\"action_taken\")\n",
    "    .agg(\n",
    "        pl.col(\"rate_spread\").mean().alias(\"mean\").round(3),\n",
    "        pl.col(\"rate_spread\").median().alias(\"median\").round(3),\n",
    "    )\n",
    "    .pipe(log, \"Rate spread mean/median, by `action_taken`\")\n",
    ")"
   ]
  },
  {
   "cell_type": "markdown",
   "id": "6abf5e61-2bdd-41e1-8ee0-37b6ca7e6197",
   "metadata": {},
   "source": [
    "### Distributions"
   ]
  },
  {
   "cell_type": "code",
   "execution_count": 59,
   "id": "fcfc090b-2548-4a64-b935-8652c311dc51",
   "metadata": {},
   "outputs": [
    {
     "data": {
      "image/png": "[encoded data removed]",
      "text/plain": [
       "<Figure size 1000x600 with 1 Axes>"
      ]
     },
     "metadata": {},
     "output_type": "display_data"
    }
   ],
   "source": [
    "ax = sns.histplot(\n",
    "    data=(\n",
    "        raw.filter(pl.col(\"loan_type\").eq(1))\n",
    "        .with_columns(pl.col(\"rate_spread\").clip(-5, 5))\n",
    "        .with_columns(EXPR_ETHN_SIMPLE)\n",
    "        .with_columns(EXPR_RACE_SIMPLE)\n",
    "        .with_columns(\n",
    "            EXPR_RACE_ETHN.replace(\n",
    "                {\n",
    "                    \"hl\": \"Hispanic/Latino\",\n",
    "                    \"white\": \"White\",\n",
    "                }\n",
    "            )\n",
    "        )\n",
    "        .filter(\n",
    "            pl.col(\"race_ethn\").is_in(\n",
    "                [\n",
    "                    \"Hispanic/Latino\",\n",
    "                    \"White\",\n",
    "                ]\n",
    "            )\n",
    "        )\n",
    "        .rename({\"race_ethn\": \"Race/Ethnicity\"})\n",
    "    ),\n",
    "    x=\"rate_spread\",\n",
    "    hue=\"Race/Ethnicity\",\n",
    "    stat=\"probability\",\n",
    "    common_bins=True,\n",
    "    common_norm=False,\n",
    "    binwidth=0.2,\n",
    ")\n",
    "\n",
    "ax.figure.set_size_inches((10, 6))\n",
    "ax.set_ylabel(\"Proportion of Loans\")\n",
    "ax.set_xlabel(\"Rate Spread\")\n",
    "ax.set_title(\"Rate Spread Distributions\\n\" \"White vs. H/L Applicants\\n\")\n",
    "pass"
   ]
  },
  {
   "cell_type": "markdown",
   "id": "0f3c6480-fe8a-4598-9463-43a927622397",
   "metadata": {},
   "source": [
    "Only a very small proportion (less than 0.05%) of rate spreads are less than -5 or +5; we'll remove them from analyses because they might be errors:"
   ]
  },
  {
   "cell_type": "code",
   "execution_count": 60,
   "id": "d8dc7297-b427-4055-9198-7f2cb748cd10",
   "metadata": {},
   "outputs": [
    {
     "data": {
      "text/plain": [
       "0.0004679185993350405"
      ]
     },
     "execution_count": 60,
     "metadata": {},
     "output_type": "execute_result"
    }
   ],
   "source": [
    "(raw.filter(~pl.col(\"rate_spread\").is_null())[\"rate_spread\"].abs().ge(5).mean())"
   ]
  },
  {
   "cell_type": "markdown",
   "id": "5f325fac-7de2-4fac-a8e6-562289d9a2ae",
   "metadata": {},
   "source": [
    "## Aggregate stats, by race/ethnicity"
   ]
  },
  {
   "cell_type": "code",
   "execution_count": 61,
   "id": "33d20f2f-4c9d-4744-9864-1759a42f83b5",
   "metadata": {},
   "outputs": [],
   "source": [
    "AGG_RATE_SPREADS = (\n",
    "    pl.col(\"rate_spread\").mean().round(2).alias(\"Average\").round(2),\n",
    "    pl.col(\"rate_spread\").median().round(2).alias(\"Median\"),\n",
    "    pl.col(\"rate_spread\").gt(0.5).mean().round(2).alias(\"Prop. >0.5\"),\n",
    "    pl.col(\"rate_spread\").gt(1).mean().round(2).alias(\"Prop. >1\"),\n",
    ")"
   ]
  },
  {
   "cell_type": "code",
   "execution_count": 62,
   "id": "970a7480-0f90-4144-89ee-ee568a03fbd5",
   "metadata": {},
   "outputs": [
    {
     "name": "stdout",
     "output_type": "stream",
     "text": [
      "Rate spreads descriptive stats:\n"
     ]
    },
    {
     "data": {
      "text/html": [
       "<div><style>\n",
       ".dataframe > thead > tr,\n",
       ".dataframe > tbody > tr {\n",
       "  text-align: right;\n",
       "  white-space: pre-wrap;\n",
       "}\n",
       "</style>\n",
       "<small>shape: (7, 5)</small><table border=\"1\" class=\"dataframe\"><thead><tr><th>race_ethn</th><th>Average</th><th>Median</th><th>Prop. &gt;0.5</th><th>Prop. &gt;1</th></tr><tr><td>str</td><td>f64</td><td>f64</td><td>f64</td><td>f64</td></tr></thead><tbody><tr><td>&quot;black&quot;</td><td>0.42</td><td>0.38</td><td>0.4</td><td>0.15</td></tr><tr><td>&quot;hl&quot;</td><td>0.44</td><td>0.35</td><td>0.38</td><td>0.13</td></tr><tr><td>&quot;pacific_island…</td><td>0.4</td><td>0.32</td><td>0.34</td><td>0.12</td></tr><tr><td>&quot;native&quot;</td><td>0.29</td><td>0.21</td><td>0.28</td><td>0.11</td></tr><tr><td>&quot;white&quot;</td><td>0.21</td><td>0.16</td><td>0.21</td><td>0.06</td></tr><tr><td>&quot;missing&quot;</td><td>0.19</td><td>0.13</td><td>0.21</td><td>0.06</td></tr><tr><td>&quot;asian&quot;</td><td>0.08</td><td>0.02</td><td>0.14</td><td>0.05</td></tr></tbody></table></div>"
      ],
      "text/plain": [
       "shape: (7, 5)\n",
       "┌──────────────────┬─────────┬────────┬────────────┬──────────┐\n",
       "│ race_ethn        ┆ Average ┆ Median ┆ Prop. >0.5 ┆ Prop. >1 │\n",
       "│ ---              ┆ ---     ┆ ---    ┆ ---        ┆ ---      │\n",
       "│ str              ┆ f64     ┆ f64    ┆ f64        ┆ f64      │\n",
       "╞══════════════════╪═════════╪════════╪════════════╪══════════╡\n",
       "│ black            ┆ 0.42    ┆ 0.38   ┆ 0.4        ┆ 0.15     │\n",
       "│ hl               ┆ 0.44    ┆ 0.35   ┆ 0.38       ┆ 0.13     │\n",
       "│ pacific_islander ┆ 0.4     ┆ 0.32   ┆ 0.34       ┆ 0.12     │\n",
       "│ native           ┆ 0.29    ┆ 0.21   ┆ 0.28       ┆ 0.11     │\n",
       "│ white            ┆ 0.21    ┆ 0.16   ┆ 0.21       ┆ 0.06     │\n",
       "│ missing          ┆ 0.19    ┆ 0.13   ┆ 0.21       ┆ 0.06     │\n",
       "│ asian            ┆ 0.08    ┆ 0.02   ┆ 0.14       ┆ 0.05     │\n",
       "└──────────────────┴─────────┴────────┴────────────┴──────────┘"
      ]
     },
     "execution_count": 62,
     "metadata": {},
     "output_type": "execute_result"
    }
   ],
   "source": [
    "(\n",
    "    raw.filter(pl.col(\"loan_type\").eq(1))\n",
    "    .with_columns(EXPR_ETHN_SIMPLE)\n",
    "    .with_columns(EXPR_RACE_SIMPLE)\n",
    "    .group_by(EXPR_RACE_ETHN)\n",
    "    .agg(AGG_RATE_SPREADS)\n",
    "    .sort(\"Median\", \"Average\", descending=True)\n",
    "    .pipe(log, \"Rate spreads descriptive stats\")\n",
    ")"
   ]
  },
  {
   "cell_type": "code",
   "execution_count": 63,
   "id": "4877e948-6f91-454f-abc5-57b4066368cb",
   "metadata": {},
   "outputs": [
    {
     "name": "stdout",
     "output_type": "stream",
     "text": [
      "Rate spreads descriptive stats, excluding outliers:\n"
     ]
    },
    {
     "data": {
      "text/html": [
       "<div><style>\n",
       ".dataframe > thead > tr,\n",
       ".dataframe > tbody > tr {\n",
       "  text-align: right;\n",
       "  white-space: pre-wrap;\n",
       "}\n",
       "</style>\n",
       "<small>shape: (7, 5)</small><table border=\"1\" class=\"dataframe\"><thead><tr><th>race_ethn</th><th>Average</th><th>Median</th><th>Prop. &gt;0.5</th><th>Prop. &gt;1</th></tr><tr><td>str</td><td>f64</td><td>f64</td><td>f64</td><td>f64</td></tr></thead><tbody><tr><td>&quot;black&quot;</td><td>0.41</td><td>0.38</td><td>0.4</td><td>0.15</td></tr><tr><td>&quot;hl&quot;</td><td>0.42</td><td>0.35</td><td>0.38</td><td>0.13</td></tr><tr><td>&quot;pacific_island…</td><td>0.4</td><td>0.32</td><td>0.34</td><td>0.12</td></tr><tr><td>&quot;native&quot;</td><td>0.28</td><td>0.21</td><td>0.28</td><td>0.1</td></tr><tr><td>&quot;white&quot;</td><td>0.2</td><td>0.16</td><td>0.21</td><td>0.06</td></tr><tr><td>&quot;missing&quot;</td><td>0.18</td><td>0.13</td><td>0.2</td><td>0.06</td></tr><tr><td>&quot;asian&quot;</td><td>0.08</td><td>0.02</td><td>0.14</td><td>0.05</td></tr></tbody></table></div>"
      ],
      "text/plain": [
       "shape: (7, 5)\n",
       "┌──────────────────┬─────────┬────────┬────────────┬──────────┐\n",
       "│ race_ethn        ┆ Average ┆ Median ┆ Prop. >0.5 ┆ Prop. >1 │\n",
       "│ ---              ┆ ---     ┆ ---    ┆ ---        ┆ ---      │\n",
       "│ str              ┆ f64     ┆ f64    ┆ f64        ┆ f64      │\n",
       "╞══════════════════╪═════════╪════════╪════════════╪══════════╡\n",
       "│ black            ┆ 0.41    ┆ 0.38   ┆ 0.4        ┆ 0.15     │\n",
       "│ hl               ┆ 0.42    ┆ 0.35   ┆ 0.38       ┆ 0.13     │\n",
       "│ pacific_islander ┆ 0.4     ┆ 0.32   ┆ 0.34       ┆ 0.12     │\n",
       "│ native           ┆ 0.28    ┆ 0.21   ┆ 0.28       ┆ 0.1      │\n",
       "│ white            ┆ 0.2     ┆ 0.16   ┆ 0.21       ┆ 0.06     │\n",
       "│ missing          ┆ 0.18    ┆ 0.13   ┆ 0.2        ┆ 0.06     │\n",
       "│ asian            ┆ 0.08    ┆ 0.02   ┆ 0.14       ┆ 0.05     │\n",
       "└──────────────────┴─────────┴────────┴────────────┴──────────┘"
      ]
     },
     "execution_count": 63,
     "metadata": {},
     "output_type": "execute_result"
    }
   ],
   "source": [
    "(\n",
    "    raw.filter(pl.col(\"loan_type\").eq(1))\n",
    "    .filter(pl.col(\"rate_spread\").ge(-5))\n",
    "    .filter(pl.col(\"rate_spread\").le(5))\n",
    "    .with_columns(EXPR_ETHN_SIMPLE)\n",
    "    .with_columns(EXPR_RACE_SIMPLE)\n",
    "    .group_by(EXPR_RACE_ETHN)\n",
    "    .agg(AGG_RATE_SPREADS)\n",
    "    .sort(\"Median\", \"Average\", descending=True)\n",
    "    .pipe(log, \"Rate spreads descriptive stats, excluding outliers\")\n",
    ")"
   ]
  },
  {
   "cell_type": "code",
   "execution_count": 64,
   "id": "d0dbbf44-b6c1-4c06-b8b5-a79bfc25253a",
   "metadata": {},
   "outputs": [
    {
     "name": "stdout",
     "output_type": "stream",
     "text": [
      "Rate spreads descriptive stats, excluding borrower-rejected:\n"
     ]
    },
    {
     "data": {
      "text/html": [
       "<div><style>\n",
       ".dataframe > thead > tr,\n",
       ".dataframe > tbody > tr {\n",
       "  text-align: right;\n",
       "  white-space: pre-wrap;\n",
       "}\n",
       "</style>\n",
       "<small>shape: (7, 5)</small><table border=\"1\" class=\"dataframe\"><thead><tr><th>race_ethn</th><th>Average</th><th>Median</th><th>Prop. &gt;0.5</th><th>Prop. &gt;1</th></tr><tr><td>str</td><td>f64</td><td>f64</td><td>f64</td><td>f64</td></tr></thead><tbody><tr><td>&quot;black&quot;</td><td>0.42</td><td>0.38</td><td>0.4</td><td>0.15</td></tr><tr><td>&quot;hl&quot;</td><td>0.43</td><td>0.35</td><td>0.38</td><td>0.13</td></tr><tr><td>&quot;pacific_island…</td><td>0.39</td><td>0.32</td><td>0.33</td><td>0.11</td></tr><tr><td>&quot;native&quot;</td><td>0.28</td><td>0.21</td><td>0.29</td><td>0.1</td></tr><tr><td>&quot;white&quot;</td><td>0.2</td><td>0.16</td><td>0.21</td><td>0.06</td></tr><tr><td>&quot;missing&quot;</td><td>0.19</td><td>0.13</td><td>0.2</td><td>0.06</td></tr><tr><td>&quot;asian&quot;</td><td>0.08</td><td>0.02</td><td>0.14</td><td>0.05</td></tr></tbody></table></div>"
      ],
      "text/plain": [
       "shape: (7, 5)\n",
       "┌──────────────────┬─────────┬────────┬────────────┬──────────┐\n",
       "│ race_ethn        ┆ Average ┆ Median ┆ Prop. >0.5 ┆ Prop. >1 │\n",
       "│ ---              ┆ ---     ┆ ---    ┆ ---        ┆ ---      │\n",
       "│ str              ┆ f64     ┆ f64    ┆ f64        ┆ f64      │\n",
       "╞══════════════════╪═════════╪════════╪════════════╪══════════╡\n",
       "│ black            ┆ 0.42    ┆ 0.38   ┆ 0.4        ┆ 0.15     │\n",
       "│ hl               ┆ 0.43    ┆ 0.35   ┆ 0.38       ┆ 0.13     │\n",
       "│ pacific_islander ┆ 0.39    ┆ 0.32   ┆ 0.33       ┆ 0.11     │\n",
       "│ native           ┆ 0.28    ┆ 0.21   ┆ 0.29       ┆ 0.1      │\n",
       "│ white            ┆ 0.2     ┆ 0.16   ┆ 0.21       ┆ 0.06     │\n",
       "│ missing          ┆ 0.19    ┆ 0.13   ┆ 0.2        ┆ 0.06     │\n",
       "│ asian            ┆ 0.08    ┆ 0.02   ┆ 0.14       ┆ 0.05     │\n",
       "└──────────────────┴─────────┴────────┴────────────┴──────────┘"
      ]
     },
     "execution_count": 64,
     "metadata": {},
     "output_type": "execute_result"
    }
   ],
   "source": [
    "(\n",
    "    raw.filter(pl.col(\"loan_type\").eq(1))\n",
    "    .filter(pl.col(\"action_taken\").eq(1))\n",
    "    .with_columns(EXPR_ETHN_SIMPLE)\n",
    "    .with_columns(EXPR_RACE_SIMPLE)\n",
    "    .group_by(EXPR_RACE_ETHN)\n",
    "    .agg(AGG_RATE_SPREADS)\n",
    "    .sort(\"Median\", \"Average\", descending=True)\n",
    "    .pipe(log, \"Rate spreads descriptive stats, excluding borrower-rejected\")\n",
    ")"
   ]
  },
  {
   "cell_type": "markdown",
   "id": "d6568571-f65c-4ee6-9b49-a8cc1219b7bf",
   "metadata": {},
   "source": [
    "---\n",
    "\n",
    "---\n",
    "\n",
    "---"
   ]
  }
 ],
 "metadata": {
  "kernelspec": {
   "display_name": "Python 3 (ipykernel)",
   "language": "python",
   "name": "python3"
  },
  "language_info": {
   "codemirror_mode": {
    "name": "ipython",
    "version": 3
   },
   "file_extension": ".py",
   "mimetype": "text/x-python",
   "name": "python",
   "nbconvert_exporter": "python",
   "pygments_lexer": "ipython3",
   "version": "3.10.4"
  }
 },
 "nbformat": 4,
 "nbformat_minor": 5
}
